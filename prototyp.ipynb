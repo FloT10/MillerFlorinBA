{
 "cells": [
  {
   "cell_type": "markdown",
   "metadata": {},
   "source": [
    "Notwendige Pakete"
   ]
  },
  {
   "cell_type": "code",
   "execution_count": 15,
   "metadata": {},
   "outputs": [],
   "source": [
    "### Ziel: Installieren der notwendigen Pakete und Einrichtung der Umgebung ###\n",
    "\n",
    "#Empfehlung: Neue Conda-Umgebung einrichten im Terminal\n",
    "#!conda create --name beng python=3.12.0\n",
    "#!conda activate beng\n",
    "\n",
    "#%pip install requests\n",
    "#%pip install xml.etree.ElementTree\n",
    "#%pip install --upgrade --quiet langchain langchain-openai\n",
    "#%pip install python-dotenv\n",
    "#%pip install translate\n",
    "#%pip install reportlab\n",
    "#%pip install pdfkit\n",
    "#%pip install lxml\n",
    "\n"
   ]
  },
  {
   "cell_type": "markdown",
   "metadata": {},
   "source": [
    "Zugriff DEXPI-R&I "
   ]
  },
  {
   "cell_type": "code",
   "execution_count": 16,
   "metadata": {},
   "outputs": [
    {
     "name": "stdout",
     "output_type": "stream",
     "text": [
      "<?xml version=\"1.0\" encoding=\"utf-8\"?>\n",
      "<PlantModel xmlns:xsi=\"http://www.w3.org/2001/XMLSchema-instance\" xsi:noNamespaceSchemaLocation=\"../ProteusPIDSchema_4.0.1.xsd\">\n",
      "  <!--Created with INGR ISO15926 PostProc V0.0.7.1 and ConfigurationFileVersion 1.1 by PPM-VM-2014-R1\\Intergraph on PPM-VM-2014-R1 at 4/12/2018 5:14:33 PM-->\n",
      "  <PlantInformation SchemaVersion=\"4.0.1\" OriginatingSystem=\"SPPID\" Date=\"2018-04-12\" Time=\"15:13:38.0000000+02:00\" Is3D=\"no\" Units=\"Metre\" Discipline=\"PID\">\n",
      "    <UnitsOfMeasure Distance=\"Metre\" />\n",
      "  </PlantInformation>\n",
      "  <PlantStructureItem ID=\"PBS945900F29F424D32A292F07BB90792E2\" ComponentClass=\"PlantSectionIso10209-2012\" ComponentName=\"Github\" ComponentClassURI=\"http://sandbox.dexpi.org/rdl/PlantSectionIso10209-2012\">\n",
      "    <GenericAttributes Number=\"2\" Set=\"DexpiAttributes\">\n",
      "      <GenericAttribute Name=\"PlantSectionIdentificationCodeAssignmentClass\" Value=\"Github\" Format=\"string\" AttributeURI=\"http://sandbox.dexpi.org/rdl/PlantSectionIdentificationCodeAssignment\n"
     ]
    }
   ],
   "source": [
    "### Ziel: Zugriff auf das DEXPI-R&I im .xml-Format herstellen ###\n",
    "# Quelle GitHub Repositry der Bachelorarbeit: https://github.com/FloT10/MillerFlorinBA\n",
    "\n",
    "# Importieren des 'requests'-Moduls, um Daten von einer URL herunterzuladen, und das 'xml.etree.ElementTree'-Modul, um XML-Daten zu verarbeiten.\n",
    "import requests\n",
    "import xml.etree.ElementTree as ET\n",
    "\n",
    "# GitHub Raw-URLs für die DEXPI-Datei.\n",
    "github_url_dexpi = 'https://raw.githubusercontent.com/FloT10/MillerFlorinBA/main/C01V01-HEX.EX03.xml'\n",
    "# Im aktuellen Entwurf nicht nötig.\n",
    "# github_url_formblatt = 'https://github.com/FloT10/MillerFlorinBA/blob/546c3688eccc25c23648de29965ede3a476fcb0b/formblatt_6_2.xml'\n",
    "\n",
    "# Herunterladen der DEXPI-Datei von der GitHub-URL.\n",
    "response = requests.get(github_url_dexpi)\n",
    "\n",
    "# Speichern der heruntergeladenen DEXPI-Datei lokal im Textmodus ('w').\n",
    "with open('/tmp/C01V01-HEX.EX03.xml', 'w') as file:\n",
    "    file.write(response.text)\n",
    "\n",
    "# Definieren eines Dateipfades zur lokal gespeicherten DEXPI-Datei zur weiteren Verwendung.\n",
    "dexpi_xml = \"/tmp/C01V01-HEX.EX03.xml\"\n",
    "\n",
    "with open('/tmp/C01V01-HEX.EX03.xml', 'r') as file:\n",
    "    dexpi_xml_content = file.read(1000)\n",
    "    print(dexpi_xml_content)"
   ]
  },
  {
   "cell_type": "markdown",
   "metadata": {},
   "source": [
    "Angaben zur Anlage"
   ]
  },
  {
   "cell_type": "code",
   "execution_count": 17,
   "metadata": {},
   "outputs": [
    {
     "name": "stdout",
     "output_type": "stream",
     "text": [
      "C01V01-HEX.EX03\n"
     ]
    }
   ],
   "source": [
    "### Ziel: Extrahieren der Anlagenbezeichnung ###\n",
    "\n",
    "# Globale Variable für Anlagenbezeichnung\n",
    "anlagenbezeichnung = None\n",
    "\n",
    "# Funktion zum Laden und Extrahieren von Daten aus der DEXPI-Datei.\n",
    "def lade_daten(dexpi_xml):\n",
    "    global anlagenbezeichnung\n",
    "    try:\n",
    "        # Laden des XML-Dokuments.\n",
    "        tree = ET.parse(dexpi_xml)\n",
    "        root = tree.getroot()\n",
    "\n",
    "        # Extrahiere die Anlagenbezeichnung aus dem XML-Baum.\n",
    "        drawing_element = root.find('.//Drawing')\n",
    "        if drawing_element is not None:\n",
    "            anlagenbezeichnung = drawing_element.get('Name')\n",
    "\n",
    "        else:\n",
    "            print(\"Die Anlagenbezeichnung wurde nicht gefunden.\")\n",
    "\n",
    "    except Exception as e:\n",
    "        # Falls ein Fehler auftritt, gib eine Fehlermeldung aus.\n",
    "        print(f\"Fehler beim Laden und Extrahieren der Daten: {e}\")\n",
    "\n",
    "# Beispielaufruf der Funktion\n",
    "lade_daten(dexpi_xml)\n",
    "\n",
    "# Verwende die globale Variable an anderer Stelle im Skript, wenn nötig.\n",
    "print(anlagenbezeichnung)\n"
   ]
  },
  {
   "cell_type": "code",
   "execution_count": 18,
   "metadata": {},
   "outputs": [
    {
     "name": "stdout",
     "output_type": "stream",
     "text": [
      "Zentrifugalpumpe, Rohrleitungssystem, Kolbenpumpe, Plattenwärmetauscher, Behälter, Rohrbündelwärmetauscher\n"
     ]
    }
   ],
   "source": [
    "### Ziel: Extrahieren des Anlagenumfangs ###\n",
    "\n",
    "# Funktion zum Laden und Extrahieren von Daten aus der DEXPI-Datei.\n",
    "def lade_daten(dexpi_xml):\n",
    "    try:\n",
    "        # Lade das XML-Dokument und erhalte die Wurzel des Baums.\n",
    "        tree = ET.parse(dexpi_xml)\n",
    "        root = tree.getroot()\n",
    "\n",
    "        # Extrahiere ComponentClass aus allen Equipment- und PipingNetworkSystem-Elementen.\n",
    "        equipment_elements = root.findall('.//Equipment')\n",
    "        piping_network_system_elements = root.findall('.//PipingNetworkSystem')\n",
    "\n",
    "        component_classes = set()\n",
    "\n",
    "        for equipment_element in equipment_elements:\n",
    "            component_class = equipment_element.get('ComponentClass')\n",
    "\n",
    "            # Überprüfe, ob die ComponentClass den erlaubten Werten entspricht.\n",
    "            # Ausgerichtet am Beispiel-RI. Andere Anlagenbestandteile könnten ergänzt werden.\n",
    "            erlaubte_component_classes = ['Tank', 'ReciprocatingPump', 'CentrifugalPump', 'PlateAndShellHeatExchanger', 'ShellAndTubeHeatExchanger']\n",
    "            if component_class in erlaubte_component_classes:\n",
    "                component_classes.add(component_class)\n",
    "\n",
    "        for piping_network_system_element in piping_network_system_elements:\n",
    "            component_class = piping_network_system_element.get('ComponentClass')\n",
    "\n",
    "            # Überprüfe, ob die ComponentClass den erlaubten Werten entspricht.\n",
    "            erlaubte_component_classes = ['PipingNetworkSystem']\n",
    "            if component_class in erlaubte_component_classes:\n",
    "                component_classes.add(component_class)\n",
    "\n",
    "        # Überprüfe, ob mindestens eine gültige ComponentClass gefunden wurde.\n",
    "        if not component_classes:\n",
    "            raise ValueError(\"Keine gültigen Anlagenbestandteile gefunden.\")\n",
    "\n",
    "        # Weitere Werte können entsprechend extrahiert werden.\n",
    "\n",
    "        # Gib ein Dictionary mit den extrahierten Werten zurück.\n",
    "        return {\n",
    "            'Anlagenumfang (englisch)': list(component_classes),\n",
    "            # Weitere extrahierte Werte könnten hier hinzugefügt werden.\n",
    "        }\n",
    "\n",
    "    except Exception as e:\n",
    "        # Falls ein Fehler auftritt, gib eine Fehlermeldung aus und gibt None zurück.\n",
    "        print(f\"Fehler beim Laden und Extrahieren der Daten: {e}\")\n",
    "        return None\n",
    "\n",
    "# Beispielaufruf der Funktion und Ausgabe der extrahierten Daten.\n",
    "anlagenumfang_englisch = lade_daten(dexpi_xml)\n",
    "# print(anlagenumfang_englisch)\n",
    "\n",
    "def uebersetze_begriffe_manuell(begriffe, zielsprache='de'):\n",
    "    manuelle_uebersetzungen = {\n",
    "        'ReciprocatingPump': 'Kolbenpumpe',\n",
    "        'PipingNetworkSystem': 'Rohrleitungssystem',\n",
    "        'CentrifugalPump': 'Zentrifugalpumpe',\n",
    "        'PlateAndShellHeatExchanger': 'Plattenwärmetauscher',\n",
    "        'Tank': 'Behälter',\n",
    "        'ShellAndTubeHeatExchanger': 'Rohrbündelwärmetauscher'\n",
    "    }\n",
    "\n",
    "    uebersetzte_begriffe = [manuelle_uebersetzungen.get(begriff, begriff) for begriff in begriffe]\n",
    "    return uebersetzte_begriffe\n",
    "\n",
    "# Beispielaufruf\n",
    "anlagenumfang_liste = uebersetze_begriffe_manuell(anlagenumfang_englisch['Anlagenumfang (englisch)'])\n",
    "\n",
    "# Verbinden der Elemente der Liste zu einem String mit Kommas\n",
    "anlagenumfang = \", \".join(anlagenumfang_liste)\n",
    "\n",
    "\n",
    "# Ausgabe der übersetzten Begriffe\n",
    "print(anlagenumfang)\n",
    "\n"
   ]
  },
  {
   "cell_type": "code",
   "execution_count": 19,
   "metadata": {},
   "outputs": [
    {
     "name": "stdout",
     "output_type": "stream",
     "text": [
      "HBV-Anlage\n"
     ]
    }
   ],
   "source": [
    "### Ziel: Extrahieren der Anlagenart ###\n",
    "\n",
    "def finde_groessten_tank(dexpi_xml):\n",
    "    try:\n",
    "        # Parsen der DEXPI-Datei\n",
    "        root = ET.fromstring(dexpi_xml)\n",
    "    except ET.ParseError as e:\n",
    "        # Fehlerausgabe, wenn das Parsen fehlschlägt\n",
    "        print(\"Fehler beim Parsen des XML-Dokuments:\", e)\n",
    "        return None, None\n",
    "    \n",
    "    # Initialisierung von Variablen für den größten Tank und dessen Kapazität\n",
    "    groesster_tank = None\n",
    "    max_capacity = 0\n",
    "    \n",
    "    # Iterieren über alle 'Equipment'-Elemente im XML-Dokument\n",
    "    for tank in root.iter('Equipment'):\n",
    "        if tank.attrib.get('ComponentClass') == 'Tank':\n",
    "            # Suche nach dem Attribut 'NominalCapacity(Volume)' im aktuellen Tank\n",
    "            capacity_attr = tank.find(\".//GenericAttribute[@Name='NominalCapacity(Volume)']\")\n",
    "            \n",
    "            # Überprüfen, ob das Attribut gefunden wurde und einen 'Value'-Schlüssel hat\n",
    "            if capacity_attr is not None and 'Value' in capacity_attr.attrib:\n",
    "                # Extrahieren der Kapazität und vergleichen mit der bisherigen maximalen Kapazität\n",
    "                capacity = float(capacity_attr.attrib['Value'])\n",
    "                if capacity > max_capacity:\n",
    "                    max_capacity = capacity\n",
    "                    groesster_tank = tank\n",
    "    \n",
    "    # Wenn ein größerer Tank gefunden wurde\n",
    "    if groesster_tank is not None:\n",
    "        # Extrahieren der Tag-Bezeichnung des größten Tanks\n",
    "        tank_tag = groesster_tank.attrib['TagName']\n",
    "        \n",
    "        # Extrahieren der Beschreibungen der Kammern im größten Tank\n",
    "        tank_beschreibungen = [chamber.find(\".//GenericAttribute[@Name='ChamberDescriptionAssignmentClass']\").attrib.get('Value', '') for chamber in groesster_tank.iter('Equipment') if chamber.attrib.get('ComponentClass') == 'Chamber']\n",
    "        \n",
    "        return groesster_tank, tank_tag, tank_beschreibungen\n",
    "    else:\n",
    "        # None, wenn kein größerer Tank gefunden wurde\n",
    "        return None, None\n",
    "\n",
    "# Aufruf mit XML-Dokument\n",
    "with open(dexpi_xml, 'r') as file:\n",
    "    dexpi_xml_content = file.read()\n",
    "\n",
    "groesster_tank, tank_tag, tank_beschreibungen = finde_groessten_tank(dexpi_xml_content)\n",
    "\n",
    "# Ausgabe der Ergebnisse\n",
    "#print(\"Größter Tank:\", tank_tag)\n",
    "#print(\"Beschreibungen der Kammern:\", tank_beschreibungen)\n",
    "\n",
    "def setze_anlagenart(tank_beschreibungen):\n",
    "    # Überprüfen, ob 'Processing Chamber' in den Beschreibungen vorkommt\n",
    "    if \"Processing Chamber\" in tank_beschreibungen:\n",
    "        return \"HBV-Anlage\"\n",
    "    # Überprüfen, ob 'Storage Chamber' in den Beschreibungen vorkommt\n",
    "    elif \"Storage Chamber\" in tank_beschreibungen:\n",
    "        return \"Tanklager\"\n",
    "    else:\n",
    "        # Fehlermeldung, wenn keine oder beide Beschreibungen vorhanden sind\n",
    "        print(\"Fehler: Ungültige Anlagenkonfiguration. Anlagenart manuell eintragen.\")\n",
    "        return None\n",
    "\n",
    "# Beispielaufruf\n",
    "anlagenart = setze_anlagenart(tank_beschreibungen)\n",
    "\n",
    "# Ausgabe der Ergebnisse\n",
    "print(anlagenart)\n",
    "\n"
   ]
  },
  {
   "cell_type": "markdown",
   "metadata": {},
   "source": [
    "Angaben zu den wassergefährdenden Stoffen in der Anlage"
   ]
  },
  {
   "cell_type": "code",
   "execution_count": 20,
   "metadata": {},
   "outputs": [],
   "source": [
    "### Ziel: Extrahieren der Stoffe ###"
   ]
  },
  {
   "cell_type": "markdown",
   "metadata": {},
   "source": [
    "Angaben zur Gefährdungsstufe"
   ]
  },
  {
   "cell_type": "code",
   "execution_count": 21,
   "metadata": {},
   "outputs": [],
   "source": [
    "### Ziel: Ermittlung der Gefährdungsstufe ###"
   ]
  },
  {
   "cell_type": "markdown",
   "metadata": {},
   "source": [
    "Angaben zu Behältern"
   ]
  },
  {
   "cell_type": "code",
   "execution_count": 22,
   "metadata": {},
   "outputs": [
    {
     "name": "stdout",
     "output_type": "stream",
     "text": [
      "TagName: T4750, NominalCapacity: 22.0\n",
      "  Chamber Function: Processing, MaterialOfConstructionCode: 1.4306\n"
     ]
    }
   ],
   "source": [
    "### Ziel: Extrahieren der Tank-Daten ###\n",
    "\n",
    "# Initialisierung der Variable außerhalb der Funktion\n",
    "material_of_construction = None\n",
    "\n",
    "def tank_suche(dexpi_xml_path):\n",
    "    # Einlesen des Inhalts der DEXPI-XML-Datei\n",
    "    with open(dexpi_xml_path, 'r') as file:\n",
    "        dexpi_xml_content = file.read()\n",
    "\n",
    "    # Parsen der dexpi_xml und Erstellen des Wurzelelements\n",
    "    root = ET.fromstring(dexpi_xml_content)\n",
    "    tanks = []\n",
    "\n",
    "    # Durchlaufen aller Equipment-Elemente mit ComponentClass='Tank'\n",
    "    for equipment in root.findall(\".//Equipment[@ComponentClass='Tank']\"):\n",
    "        # Extrahieren des Tag-Namens des Tanks\n",
    "        tag_name = equipment.get('TagName', '')\n",
    "\n",
    "        # Aussortieren von Tanks ohne Tag-Namen, die mit 'T' beginnen\n",
    "        if not tag_name.startswith('T'):\n",
    "            continue\n",
    "\n",
    "        # Extrahieren des NominalCapacity-Elements\n",
    "        nominal_capacity_element = equipment.find(\".//GenericAttribute[@Name='NominalCapacity(Volume)']\")\n",
    "        \n",
    "        # Überprüfen, ob NominalCapacity-Element vorhanden ist\n",
    "        if nominal_capacity_element is not None:\n",
    "            # Extrahieren des Wertes von NominalCapacity\n",
    "            nominal_capacity_str = nominal_capacity_element.get('Value', '')\n",
    "\n",
    "            # Überprüfen, ob NominalCapacity eine Zahl ist\n",
    "            try:\n",
    "                nominal_capacity = float(nominal_capacity_str)\n",
    "            except ValueError:\n",
    "                # Fehlermeldung ausgeben und zum nächsten Tank gehen\n",
    "                print(f\"Fehler: Nennvolumen für Tank mit Tanknummer '{tag_name}' ist keine Zahl.\")\n",
    "                continue\n",
    "        else:\n",
    "            # Fehlermeldung ausgeben und zum nächsten Tank gehen\n",
    "            print(f\"Fehler: Kein Nennvolumen für Tank mit Tanknummer '{tag_name}' vorhanden.\")\n",
    "            continue\n",
    "\n",
    "        # Extrahieren der Kammern des Tanks\n",
    "        chambers = []\n",
    "        for chamber in equipment.findall(\".//Equipment[@ComponentClass='Chamber']\"):\n",
    "            chamber_function = chamber.find(\".//GenericAttribute[@Name='ChamberFunctionAssignmentClass']\").get('Value', '')\n",
    "            \n",
    "            # Nur Kammern mit 'Process Chamber' oder 'Storage Chamber' berücksichtigen\n",
    "            if chamber_function in ['Processing', 'Storage']:\n",
    "                material_of_construction = chamber.find(\".//GenericAttribute[@Name='MaterialOfConstructionCodeAssignmentClass']\").get('Value', '')\n",
    "                chambers.append({\n",
    "                    'Function': chamber_function,\n",
    "                    'MaterialOfConstructionCode': material_of_construction\n",
    "                })\n",
    "\n",
    "        # Zusammenstellen der Tankdaten und Hinzufügen zur Liste\n",
    "        tank_data = {\n",
    "            'TagName': tag_name,\n",
    "            'NominalCapacity': nominal_capacity,\n",
    "            'Chambers': chambers\n",
    "        }\n",
    "        tanks.append(tank_data)\n",
    "\n",
    "    # Rückgabe der Liste von Tanks\n",
    "    return tanks\n",
    "\n",
    "# Aufrufen der Funktion mit der DEXPI-XML-Datei und Ausgabe der Ergebnisse\n",
    "tanks = tank_suche(dexpi_xml)\n",
    "\n",
    "for tank in tanks:\n",
    "    print(f'TagName: {tank[\"TagName\"]}, NominalCapacity: {tank[\"NominalCapacity\"]}')\n",
    "    \n",
    "    for chamber in tank['Chambers']:\n",
    "        print(f'  Chamber Function: {chamber[\"Function\"]}, MaterialOfConstructionCode: {chamber[\"MaterialOfConstructionCode\"]}')"
   ]
  },
  {
   "cell_type": "markdown",
   "metadata": {},
   "source": [
    "KI-Anwendung Material\n",
    "Quelle: https://python.langchain.com/docs/use_cases/chatbots/quickstart"
   ]
  },
  {
   "cell_type": "code",
   "execution_count": 23,
   "metadata": {
    "tags": []
   },
   "outputs": [],
   "source": [
    "# Importieren der benötigten Module\n",
    "# import os\n",
    "\n",
    "# Extrahieren des OpenAI-API-Schlüssels aus den Umgebungsvariablen oder direkt eintragen zwischen \"\"\n",
    "# openai_api_key = os.getenv(\"OPENAI_API_KEY\", \"\")\n",
    "\n",
    "# Jetzt ist der OpenAI-API-Schlüssel verfügbar und kann im Code verwendet werden, der print unten nur zum Test\n",
    "# print(f\"OpenAI API Key: {openai_api_key}\")\n",
    "\n",
    "# Importieren der benötigten Module\n",
    "# from langchain_openai import ChatOpenAI\n",
    "\n",
    "# Initialisieren des ChatOpenAI-Objekts\n",
    "# Mit der temperature kann man \"herum experimentieren\"\n",
    "# chat = ChatOpenAI(model=\"gpt-3.5-turbo-1106\", temperature=1, openai_api_key=openai_api_key)\n"
   ]
  },
  {
   "cell_type": "code",
   "execution_count": 24,
   "metadata": {
    "tags": []
   },
   "outputs": [],
   "source": [
    "# Definition der Werkstoffbezeichnung, hier kein Automatismus\n",
    "# Es können unterschiedliche Werkstoffe getestet werden\n",
    "#werkstoff_bezeichnung = \"1.4571\"\n",
    "\n",
    "# Verwendung der Variable in der Chat-Anfrage\n",
    "#from langchain_core.messages import HumanMessage\n",
    "\n",
    "#chat.invoke(\n",
    "#    [\n",
    "#        HumanMessage(\n",
    "#            content=f'Setze die Sprache auf Deutsch. Du bist ein Assistent. Du hast eine Aufgabe. Ich gebe dir einen Werkstoff. Deine Aufgabe besteht darin, zuzuordnen, ob es sich beim gegebenen Werkstoff um ein Kunststoff, ein Metall oder einen anderes Material handelt. Versuche den gegebenen Werkstoff in eine der drei Kategorien: \"Metall\", \"Kunststoff\", \"anderes Material\" einzustufen. Antworte nur: \"Metall\", \"Kunststoff\", \"anderes Material\".  Der gesuchte Werkstoff ist: {werkstoff_bezeichnung}. Falls es sich dabei gar nicht um einen Werkstoff im engeren Sinn handelt sage \"Error\"'\n",
    "#        )\n",
    "#    ]\n",
    "#)\n"
   ]
  },
  {
   "cell_type": "markdown",
   "metadata": {},
   "source": [
    "Angaben zu den Rohrleitungen"
   ]
  },
  {
   "cell_type": "code",
   "execution_count": 25,
   "metadata": {},
   "outputs": [],
   "source": [
    "### Ziel: Extrahieren der Rohrleitungen ###"
   ]
  },
  {
   "cell_type": "markdown",
   "metadata": {},
   "source": [
    "Formular XML"
   ]
  },
  {
   "cell_type": "code",
   "execution_count": 26,
   "metadata": {},
   "outputs": [
    {
     "name": "stdout",
     "output_type": "stream",
     "text": [
      "<formblatt_6_2>&lt;?xml version=\"1.0\" encoding=\"UTF-8\"?&gt;<tabelle_kopf><ueberschrift>Angaben zum Formblatt</ueberschrift><spalten><spalte>Antragsunterlage</spalte><spalte>Anlage 1 / Formblatt 6.2</spalte></spalten><daten><zeile><wert>Für immissionsschutzrechtliches Genehmigungsverfahren</wert><wert>Detailangaben / Wassergefährdende Stoffe</wert></zeile></daten></tabelle_kopf><tabelle_angaben_anlage><ueberschrift>Angaben zur Anlage</ueberschrift><spalten><spalte>Anlagenart</spalte><spalte>Anlagenbezeichnung</spalte><spalte>Anlagenumfang</spalte></spalten><daten><zeile><wert>HBV-Anlage</wert><wert>C01V01-HEX.EX03</wert><wert>Zentrifugalpumpe, Rohrleitungssystem, Kolbenpumpe, Plattenwärmetauscher, Behälter, Rohrbündelwärmetauscher</wert></zeile></daten></tabelle_angaben_anlage><tabelle_angaben_stoffe><ueberschrift>Angaben zu den wassergefährdenden Stoffen</ueberschrift><spalten><spalte>Bezeichnung</spalte><spalte>Aggregatzustand</spalte><spalte>WGK</spalte><spalte>Volumen (m3) / Masse (t)</spalte></spalten><daten><zeile><wert>MNc</wert><wert>flüssig</wert><wert>WGK3</wert><wert>22</wert></zeile></daten></tabelle_angaben_stoffe><tabelle_angaben_gefäaehrdungsstufe><ueberschrift>Ermittlung der Gefährdungsstufe der Anlage nach §39 AwSV</ueberschrift><spalten><spalte>Bezeichnung</spalte><spalte>Aggregatzustand</spalte><spalte>WGK</spalte><spalte>Volumen (m3) / Masse (t)</spalte></spalten><daten><zeile><wert>MNc</wert><wert>flüssig</wert><wert>WGK3</wert><wert>22</wert></zeile></daten></tabelle_angaben_gefäaehrdungsstufe><tabelle_angaben_gefäaehrdungsstufe><ueberschrift>Ermittlung der Gefährdungsstufe der Anlage nach §39 AwSV</ueberschrift><spalten><spalte>Maßgebendes Volumen</spalte><spalte>Maßgebende WGK</spalte><spalte>Gefährdungsstufe</spalte></spalten><daten><zeile><wert>22</wert><wert>WGK3</wert><wert>D</wert></zeile></daten></tabelle_angaben_gefäaehrdungsstufe><tabelle_angaben_behaelter><ueberschrift>Angaben zu Behältern</ueberschrift><spalten><spalte>Tanknummer</spalte><spalte>Stoff</spalte><spalte>einwandig / doppelwandig</spalte><spalte>Material</spalte><spalte>Zulassung</spalte></spalten><daten><zeile><wert>T4750</wert><wert>MNc</wert><wert>einwandig</wert><wert>Metall</wert><wert>DIN-Norm</wert></zeile></daten></tabelle_angaben_behaelter><tabelle_angaben_rohrleitungen><ueberschrift>Angaben zu Rohrleitungen</ueberschrift><spalten><spalte>Bauart</spalte><spalte>oberirdisch / unterirdisch</spalte><spalte>Anzahl</spalte><spalte>Material</spalte><spalte>Zulassung</spalte></spalten><daten><zeile><wert>Einwandige Rohrleitung</wert><wert>oberirdisch</wert><wert>7</wert><wert>Metall</wert><wert>DIN-Norm</wert></zeile></daten></tabelle_angaben_rohrleitungen></formblatt_6_2>\n"
     ]
    }
   ],
   "source": [
    "### Ziel: Erstellen eines Formblatts 6.2 im .xml-Format ###\n",
    "# Die anlagenspezifischen Werte welche ins Formblatt eingetragen werden stammen aus den oben ermittelten Variablen.\n",
    "\n",
    "# Erstellen des Wurzelelements formblatt_6_2\n",
    "formblatt_6_2 = ET.Element('formblatt_6_2')\n",
    "xml_declaration = ET.ElementTree(formblatt_6_2)\n",
    "xml_declaration_str = '<?xml version=\"1.0\" encoding=\"UTF-8\"?>'\n",
    "formblatt_6_2.text = xml_declaration_str\n",
    "\n",
    "def create_table(parent, table_name, heading, column_names, data):\n",
    "    table = ET.SubElement(parent, f'tabelle_{table_name}')\n",
    "    table_heading = ET.SubElement(table, 'ueberschrift')\n",
    "    table_heading.text = heading\n",
    "\n",
    "    columns = ET.SubElement(table, 'spalten')\n",
    "    for column_name in column_names:\n",
    "        column = ET.SubElement(columns, 'spalte')\n",
    "        column.text = column_name\n",
    "\n",
    "    table_data = ET.SubElement(table, 'daten')\n",
    "    data_row = ET.SubElement(table_data, 'zeile')\n",
    "    for value in data:\n",
    "        value_element = ET.SubElement(data_row, 'wert')\n",
    "        value_element.text = value\n",
    "\n",
    "# Hier können die oben bestimmten Variablen eingesetzt werden \n",
    "\n",
    "# Kopftabelle\n",
    "kopf_data = {\n",
    "    'Antragsunterlage': 'Für immissionsschutzrechtliches Genehmigungsverfahren',\n",
    "    'Anlage 1 / Formblatt 6.2': 'Detailangaben / Wassergefährdende Stoffe',\n",
    "}\n",
    "\n",
    "# Angaben zur Anlage\n",
    "angaben_anlage_data = {\n",
    "    'Anlagenart': anlagenart,\n",
    "    'Anlagenbezeichnung': anlagenbezeichnung,\n",
    "    'Anlagenumfang': anlagenumfang\n",
    "}\n",
    "\n",
    "# Angaben zu den wassergefährdenden Stoffen in der Anlage\n",
    "angaben_stoffe_data = {\n",
    "    'Bezeichnung': 'MNc',\n",
    "    'Aggregatzustand': 'flüssig',\n",
    "    'WGK': 'WGK3',\n",
    "    'Volumen (m3) / Masse (t)': '22'\n",
    "}\n",
    "\n",
    "# Angaben zur Gefährdungsstufe\n",
    "angaben_gefaehrdungsstufe_data = {\n",
    "    'Maßgebendes Volumen': '22',\n",
    "    'Maßgebende WGK': 'WGK3',\n",
    "    'Gefährdungsstufe': 'D'\n",
    "}\n",
    "\n",
    "# Angaben zu Behältern\n",
    "angaben_behaelter_data = {\n",
    "    'Tanknummer': 'T4750',\n",
    "    'Stoff': 'MNc',\n",
    "    'einwandig / doppelwandig': 'einwandig',\n",
    "    'Material': 'Metall',\n",
    "    'Zulassung': 'DIN-Norm'\n",
    "}\n",
    "\n",
    "# Angaben zu Rohrleitungen\n",
    "angaben_rohrleitungen_data = {\n",
    "    'Bauart': 'Einwandige Rohrleitung',\n",
    "    'oberirdisch / unterirdisch': 'oberirdisch',\n",
    "    'Anzahl': '7',\n",
    "    'Material': 'Metall',\n",
    "    'Zulassung': 'DIN-Norm'\n",
    "}\n",
    "\n",
    "\n",
    "create_table(formblatt_6_2, 'kopf', 'Angaben zum Formblatt', kopf_data.keys(), kopf_data.values())\n",
    "create_table(formblatt_6_2, 'angaben_anlage', 'Angaben zur Anlage', angaben_anlage_data.keys(), angaben_anlage_data.values())\n",
    "create_table(formblatt_6_2, 'angaben_stoffe', 'Angaben zu den wassergefährdenden Stoffen', angaben_stoffe_data.keys(), angaben_stoffe_data.values())\n",
    "create_table(formblatt_6_2, 'angaben_gefäaehrdungsstufe', 'Ermittlung der Gefährdungsstufe der Anlage nach §39 AwSV', angaben_stoffe_data.keys(), angaben_stoffe_data.values())\n",
    "create_table(formblatt_6_2, 'angaben_gefäaehrdungsstufe', 'Ermittlung der Gefährdungsstufe der Anlage nach §39 AwSV', angaben_gefaehrdungsstufe_data.keys(), angaben_gefaehrdungsstufe_data.values())\n",
    "create_table(formblatt_6_2, 'angaben_behaelter', 'Angaben zu Behältern', angaben_behaelter_data.keys(), angaben_behaelter_data.values())\n",
    "create_table(formblatt_6_2, 'angaben_rohrleitungen', 'Angaben zu Rohrleitungen', angaben_rohrleitungen_data.keys(), angaben_rohrleitungen_data.values())\n",
    "\n",
    "# Drucken des XML-Elements\n",
    "xml_str = ET.tostring(formblatt_6_2, encoding='utf-8').decode()\n",
    "print(xml_str)\n",
    "\n",
    "\n"
   ]
  },
  {
   "cell_type": "markdown",
   "metadata": {},
   "source": [
    "Formular PDF"
   ]
  },
  {
   "cell_type": "markdown",
   "metadata": {},
   "source": [
    "PDF mit latex // Pfad auf Desktop --> ändern?"
   ]
  },
  {
   "cell_type": "code",
   "execution_count": 27,
   "metadata": {},
   "outputs": [],
   "source": [
    "### Ziel: Erstellen eines Formblatts 6.2 im .tex-Format ###\n",
    "# Die anlagenspezifischen Werte welche ins Formblatt eingetragen werden stammen aus den oben ermittelten Variablen.\n",
    "\n",
    "import os\n",
    "\n",
    "# LaTeX-Template als String in einer Zelle\n",
    "latex_template = r\"\"\"\n",
    "\\documentclass{article}\n",
    "\\usepackage[utf8]{inputenc}\n",
    "\\usepackage{enumitem}\n",
    "\n",
    "\\begin{document}\n",
    "\n",
    "\\section*{Angaben zum Formblatt}\n",
    "\n",
    "\\subsection*{Antragsunterlage}\n",
    "\n",
    "\\begin{itemize}[label=--, left=0pt, itemsep=0pt]\n",
    "    \\item \\textbf{Für immissionsschutzrechtliches Genehmigungsverfahren}\n",
    "    \\item \\textbf{Detailangaben / Wassergefährdende Stoffe}\n",
    "\\end{itemize}\n",
    "\n",
    "\\subsection*{Angaben zur Anlage}\n",
    "\n",
    "\\begin{tabular}{|l|l|l|}\n",
    "    \\hline\n",
    "    \\textbf{Anlagenart} & \\textbf{Anlagenbezeichnung} & \\textbf{Anlagenumfang} \\\\\n",
    "    \\hline\n",
    "    \\VAR{anlagenart} & \\VAR{anlagenbezeichnung} & \\VAR{anlagenumfang} \\\\\n",
    "    \\hline\n",
    "\\end{tabular}\n",
    "\n",
    "\\subsection*{Angaben zu den wassergefährdenden Stoffen}\n",
    "\n",
    "\\begin{tabular}{|l|l|l|l|}\n",
    "    \\hline\n",
    "    \\textbf{Bezeichnung} & \\textbf{Aggregatzustand} & \\textbf{WGK} & \\textbf{Volumen (m3) / Masse (t)} \\\\\n",
    "    \\hline\n",
    "    \\VAR{stoff_bezeichnung} & \\VAR{stoff_aggregatzustand} & \\VAR{stoff_wgk} & \\VAR{stoff_volumen_masse} \\\\\n",
    "    \\hline\n",
    "\\end{tabular}\n",
    "\n",
    "\\subsection*{Ermittlung der Gefährdungsstufe der Anlage nach §39 AwSV}\n",
    "\n",
    "\\begin{tabular}{|l|l|l|}\n",
    "    \\hline\n",
    "    \\textbf{Maßgebendes Volumen} & \\textbf{Maßgebende WGK} & \\textbf{Gefährdungsstufe} \\\\\n",
    "    \\hline\n",
    "    \\VAR{anlage_volumen} & \\VAR{anlage_wgk} & \\VAR{anlage_gefaehrdungsstufe} \\\\\n",
    "    \\hline\n",
    "\\end{tabular}\n",
    "\n",
    "\\subsection*{Angaben zu Behältern}\n",
    "\n",
    "\\begin{tabular}{|l|l|l|l|l|}\n",
    "    \\hline\n",
    "    \\textbf{Tanknummer} & \\textbf{Stoff} & \\textbf{einwandig / doppelwandig} & \\textbf{Material} & \\textbf{Zulassung} \\\\\n",
    "    \\hline\n",
    "    \\VAR{tank_nummer} & \\VAR{tank_stoff & \\VAR{tank_wandig} & \\VAR{tank_material} \\VAR{tank_zulassung} \\\\\n",
    "    \\hline\n",
    "\\end{tabular}\n",
    "\n",
    "\\subsection*{Angaben zu Rohrleitungen}\n",
    "\n",
    "\\begin{tabular}{|l|l|l|l|l|}\n",
    "    \\hline\n",
    "    \\textbf{Bauart} & \\textbf{oberirdisch / unterirdisch} & \\textbf{Anzahl} & \\textbf{Material} & \\textbf{Zulassung} \\\\\n",
    "    \\hline\n",
    "    \\VAR{rl_bauart} & \\VAR{rl_irdisch} & \\VAR{rl_anzahl} & \\VAR{rl_material} \\VAR{rl_zulassung} \\\\\n",
    "    \\hline\n",
    "\\end{tabular}\n",
    "\n",
    "\\end{document}\n",
    "\n",
    "\"\"\"\n",
    "\n",
    "# Ersetzen der Variablen im Template\n",
    "latex_code = latex_template.replace(\"\\\\VAR{anlagenbezeichnung}\", anlagenbezeichnung)\n",
    "latex_code = latex_code.replace(\"\\\\VAR{anlagenart}\", anlagenart)\n",
    "latex_code = latex_code.replace(\"\\\\VAR{anlagenumfang}\", anlagenumfang)\n",
    "\n",
    "\n",
    "# Pfad auf Desktop \n",
    "desktop_path = os.path.join(\"/Users/millerfl/Desktop\", \"formular_6_2_auto.tex\") #Datei lokal in Ordner legen + Pfad entfernen #Evtl auch Version in Collab ablegen\n",
    "\n",
    "# Speichern des LaTeX-Codes in einer .tex-Datei auf dem Desktop\n",
    "with open(desktop_path, \"w\") as tex_file:\n",
    "    tex_file.write(latex_code)"
   ]
  },
  {
   "cell_type": "markdown",
   "metadata": {},
   "source": [
    "Back-Up"
   ]
  },
  {
   "cell_type": "markdown",
   "metadata": {},
   "source": [
    "PDF-Test simpel"
   ]
  },
  {
   "cell_type": "code",
   "execution_count": 28,
   "metadata": {},
   "outputs": [],
   "source": [
    "#from reportlab.pdfgen import canvas\n",
    "#from reportlab.lib.pagesizes import letter\n",
    "\n",
    "# Pfad zur PDF-Datei\n",
    "#pdf_path = \"/Users/millerfl/Desktop/test.pdf\"\n",
    "\n",
    "# Wort, das in die PDF geschrieben werden soll\n",
    "#word_to_write = \"Hello\"\n",
    "\n",
    "# Funktion zum Erstellen der PDF mit einem Wort\n",
    "#def create_pdf(word, pdf_path):\n",
    "    #pdf_canvas = canvas.Canvas(pdf_path, pagesize=letter)\n",
    "    #pdf_canvas.drawString(100, 750, word)  # Position und Wort anpassen\n",
    "    #pdf_canvas.save()\n",
    "\n",
    "# Erstellen der PDF\n",
    "#create_pdf(word_to_write, pdf_path)\n"
   ]
  },
  {
   "cell_type": "markdown",
   "metadata": {},
   "source": [
    "PDF-Test erweitert"
   ]
  },
  {
   "cell_type": "code",
   "execution_count": 29,
   "metadata": {},
   "outputs": [],
   "source": [
    "# from reportlab.pdfgen import canvas\n",
    "# from reportlab.lib.pagesizes import letter\n",
    "# from reportlab.lib import colors\n",
    "# from reportlab.platypus import Table, TableStyle\n",
    "# import os\n",
    "# import xml.etree.ElementTree as ET\n",
    "\n",
    "# # Pfad zur PDF-Datei\n",
    "# pdf_path = \"/Users/millerfl/Desktop/formblatt_6_2.pdf\"\n",
    "\n",
    "# # Beispiel-XML-String (später ersetzen durch tatsächlichen XML-String)\n",
    "# xml_str = \"\"\"\n",
    "# <formblatt_6_2>\n",
    "#     <tabelle_angaben_anlage>\n",
    "#         <daten>\n",
    "#             <zeile>\n",
    "#                 <wert>T1234</wert>\n",
    "#                 <wert>ABC</wert>\n",
    "#                 <wert>einwandig</wert>\n",
    "#                 <wert>Metall</wert>\n",
    "#                 <wert>DIN-Norm</wert>\n",
    "#             </zeile>\n",
    "#         </daten>\n",
    "#     </tabelle_angaben_anlage>\n",
    "# </formblatt_6_2>\n",
    "# \"\"\"\n",
    "\n",
    "# # Erstellen des XML-Elements aus dem String\n",
    "# formblatt_6_2 = ET.fromstring(xml_str)\n",
    "\n",
    "# # Funktion zum Erstellen der PDF mit reportlab und alternativem Ansatz\n",
    "# def create_pdf_alternative(xml_element, pdf_path):\n",
    "#     try:\n",
    "#         pdf_canvas = canvas.Canvas(pdf_path, pagesize=letter)\n",
    "#         table_data = []\n",
    "\n",
    "#         for child in xml_element.findall(\".//zeile\"):\n",
    "#             row_data = [subchild.text for subchild in child]\n",
    "#             table_data.append(row_data)\n",
    "\n",
    "#         table_height = len(table_data) * 10\n",
    "#         table_width = len(table_data[0]) * 100\n",
    "\n",
    "#         # Setzen der Startposition für die Tabelle\n",
    "#         x_offset, y_offset = 100, 750\n",
    "\n",
    "#         # Erstellen der Table-Instanz und Hinzufügen der Daten\n",
    "#         pdf_table = Table(table_data, colWidths=100, rowHeights=10)\n",
    "\n",
    "#         # Definieren des Stils der Tabelle\n",
    "#         style = TableStyle([('BACKGROUND', (0, 0), (-1, 0), colors.grey),\n",
    "#                             ('TEXTCOLOR', (0, 0), (-1, 0), colors.whitesmoke),\n",
    "#                             ('ALIGN', (0, 0), (-1, -1), 'CENTER'),\n",
    "#                             ('FONTNAME', (0, 0), (-1, 0), 'Helvetica-Bold'),\n",
    "#                             ('BOTTOMPADDING', (0, 0), (-1, 0), 12),\n",
    "#                             ('BACKGROUND', (0, 1), (-1, -1), colors.beige),\n",
    "#                             ('GRID', (0, 0), (-1, -1), 1, colors.black)])\n",
    "\n",
    "#         pdf_table.setStyle(style)\n",
    "\n",
    "#         # Zeichnen der Tabelle auf den Canvas\n",
    "#         pdf_table.wrapOn(pdf_canvas, 0, 0)\n",
    "#         pdf_table.drawOn(pdf_canvas, x_offset, y_offset - table_height)\n",
    "\n",
    "#         pdf_canvas.save()\n",
    "#         print(\"PDF erfolgreich erstellt!\")\n",
    "#     except Exception as e:\n",
    "#         print(f\"Fehler beim Erstellen der PDF: {e}\")\n",
    "\n",
    "# # Erstellen des PDFs\n",
    "# create_pdf_alternative(formblatt_6_2, pdf_path)\n"
   ]
  },
  {
   "cell_type": "markdown",
   "metadata": {},
   "source": [
    "PDF-Test mit XSLT"
   ]
  },
  {
   "cell_type": "code",
   "execution_count": 30,
   "metadata": {},
   "outputs": [
    {
     "name": "stdout",
     "output_type": "stream",
     "text": [
      "{\"payload\":{\"allShortcutsEnabled\":false,\"fileTree\":{\"\":{\"items\":[{\"name\":\".vscode\",\"path\":\".vscode\",\"contentType\":\"directory\"},{\"name\":\"C01V01-HEX.EX03.xml\",\"path\":\"C01V01-HEX.EX03.xml\",\"contentType\":\"file\"},{\"name\":\"LICENSE\",\"path\":\"LICENSE\",\"contentType\":\"file\"},{\"name\":\"README.md\",\"path\":\"README.md\",\"contentType\":\"file\"},{\"name\":\"formblatt_6.2.xml\",\"path\":\"formblatt_6.2.xml\",\"contentType\":\"file\"},{\"name\":\"prototyp.ipynb\",\"path\":\"prototyp.ipynb\",\"contentType\":\"file\"},{\"name\":\"transform.xslt\",\"path\":\"transform.xslt\",\"contentType\":\"file\"}],\"totalCount\":7}},\"fileTreeProcessingTime\":2.1320900000000003,\"foldersToFetch\":[],\"repo\":{\"id\":733371200,\"defaultBranch\":\"main\",\"name\":\"MillerFlorinBA\",\"ownerLogin\":\"FloT10\",\"currentUserCanPush\":false,\"isFork\":false,\"isEmpty\":false,\"createdAt\":\"2023-12-19T07:14:43.000Z\",\"ownerAvatar\":\"https://avatars.githubusercontent.com/u/143116830?v=4\",\"public\":true,\"private\":false,\"isOrgOwned\":false},\"symbolsExpanded\":false,\"treeExpanded\":true,\"refInfo\":{\"name\":\"c60ce79783cdf3a9879b88448c7d054692c50ada\",\"listCacheKey\":\"v0:1705637637.0\",\"canEdit\":false,\"refType\":\"tree\",\"currentOid\":\"c60ce79783cdf3a9879b88448c7d054692c50ada\"},\"path\":\"transform.xslt\",\"currentUser\":null,\"blob\":{\"rawLines\":[\"<!-- transform.xslt -->\",\"\",\"<xsl:stylesheet version=\\\"1.0\\\" xmlns:xsl=\\\"http://www.w3.org/1999/XSL/Transform\\\">\",\"    <xsl:output method=\\\"html\\\" indent=\\\"yes\\\"/>\",\"    \",\"    <!-- Match the root element -->\",\"    <xsl:template match=\\\"/\\\">\",\"        <html>\",\"            <body>\",\"                <!-- Apply templates to formblatt_6_2 element -->\",\"                <xsl:apply-templates select=\\\"formblatt_6_2\\\"/>\",\"            </body>\",\"        </html>\",\"    </xsl:template>\",\"\",\"    <!-- Match the formblatt_6_2 element -->\",\"    <xsl:template match=\\\"formblatt_6_2\\\">\",\"        <h1><xsl:value-of select=\\\"tabelle_kopf/ueberschrift\\\"/></h1>\",\"        \",\"        <!-- Apply templates to child elements of tabelle_kopf -->\",\"        <xsl:apply-templates select=\\\"tabelle_kopf/spalten | tabelle_kopf/daten\\\"/>\",\"        \",\"        <!-- Apply templates to child elements of tabelle_angaben_anlage -->\",\"        <xsl:apply-templates select=\\\"tabelle_angaben_anlage\\\"/>\",\"        \",\"        <!-- Apply templates to child elements of tabelle_angaben_stoffe -->\",\"        <xsl:apply-templates select=\\\"tabelle_angaben_stoffe\\\"/>\",\"        \",\"        <!-- Add more sections as needed -->\",\"    </xsl:template>\",\"\",\"    <!-- Match spalten and daten elements -->\",\"    <xsl:template match=\\\"tabelle_kopf/spalten | tabelle_kopf/daten\\\">\",\"        <ul>\",\"            <xsl:for-each select=\\\"*\\\">\",\"                <li><xsl:value-of select=\\\".\\\"/></li>\",\"            </xsl:for-each>\",\"        </ul>\",\"    </xsl:template>\",\"\",\"    <!-- Match tabelle_angaben_anlage element -->\",\"    <xsl:template match=\\\"tabelle_angaben_anlage\\\">\",\"        <h2><xsl:value-of select=\\\"ueberschrift\\\"/></h2>\",\"        <!-- Apply templates to child elements of tabelle_angaben_anlage -->\",\"        <xsl:apply-templates select=\\\"spalten | daten\\\"/>\",\"    </xsl:template>\",\"\",\"    <!-- Match tabelle_angaben_stoffe element -->\",\"    <xsl:template match=\\\"tabelle_angaben_stoffe\\\">\",\"        <h2><xsl:value-of select=\\\"ueberschrift\\\"/></h2>\",\"        <!-- Apply templates to child elements of tabelle_angaben_stoffe -->\",\"        <xsl:apply-templates select=\\\"spalten | daten\\\"/>\",\"    </xsl:template>\",\"\",\"    <!-- Add more templates for other sections as needed -->\",\"</xsl:stylesheet>\"],\"stylingDirectives\":[[{\"start\":0,\"end\":23,\"cssClass\":\"pl-c\"},{\"start\":0,\"end\":4,\"cssClass\":\"pl-c\"},{\"start\":20,\"end\":23,\"cssClass\":\"pl-c\"}],[],[{\"start\":1,\"end\":4,\"cssClass\":\"pl-ent\"},{\"start\":4,\"end\":5,\"cssClass\":\"pl-ent\"},{\"start\":5,\"end\":15,\"cssClass\":\"pl-ent\"},{\"start\":16,\"end\":23,\"cssClass\":\"pl-e\"},{\"start\":24,\"end\":29,\"cssClass\":\"pl-s\"},{\"start\":24,\"end\":25,\"cssClass\":\"pl-pds\"},{\"start\":28,\"end\":29,\"cssClass\":\"pl-pds\"},{\"start\":30,\"end\":35,\"cssClass\":\"pl-e\"},{\"start\":35,\"end\":36,\"cssClass\":\"pl-e\"},{\"start\":36,\"end\":39,\"cssClass\":\"pl-e\"},{\"start\":40,\"end\":78,\"cssClass\":\"pl-s\"},{\"start\":40,\"end\":41,\"cssClass\":\"pl-pds\"},{\"start\":77,\"end\":78,\"cssClass\":\"pl-pds\"}],[{\"start\":5,\"end\":8,\"cssClass\":\"pl-ent\"},{\"start\":8,\"end\":9,\"cssClass\":\"pl-ent\"},{\"start\":9,\"end\":15,\"cssClass\":\"pl-ent\"},{\"start\":16,\"end\":22,\"cssClass\":\"pl-e\"},{\"start\":23,\"end\":29,\"cssClass\":\"pl-s\"},{\"start\":23,\"end\":24,\"cssClass\":\"pl-pds\"},{\"start\":28,\"end\":29,\"cssClass\":\"pl-pds\"},{\"start\":30,\"end\":36,\"cssClass\":\"pl-e\"},{\"start\":37,\"end\":42,\"cssClass\":\"pl-s\"},{\"start\":37,\"end\":38,\"cssClass\":\"pl-pds\"},{\"start\":41,\"end\":42,\"cssClass\":\"pl-pds\"}],[],[{\"start\":4,\"end\":35,\"cssClass\":\"pl-c\"},{\"start\":4,\"end\":8,\"cssClass\":\"pl-c\"},{\"start\":32,\"end\":35,\"cssClass\":\"pl-c\"}],[{\"start\":5,\"end\":8,\"cssClass\":\"pl-ent\"},{\"start\":8,\"end\":9,\"cssClass\":\"pl-ent\"},{\"start\":9,\"end\":17,\"cssClass\":\"pl-ent\"},{\"start\":18,\"end\":23,\"cssClass\":\"pl-e\"},{\"start\":24,\"end\":27,\"cssClass\":\"pl-s\"},{\"start\":24,\"end\":25,\"cssClass\":\"pl-pds\"},{\"start\":26,\"end\":27,\"cssClass\":\"pl-pds\"}],[{\"start\":9,\"end\":13,\"cssClass\":\"pl-ent\"}],[{\"start\":13,\"end\":17,\"cssClass\":\"pl-ent\"}],[{\"start\":16,\"end\":65,\"cssClass\":\"pl-c\"},{\"start\":16,\"end\":20,\"cssClass\":\"pl-c\"},{\"start\":62,\"end\":65,\"cssClass\":\"pl-c\"}],[{\"start\":17,\"end\":20,\"cssClass\":\"pl-ent\"},{\"start\":20,\"end\":21,\"cssClass\":\"pl-ent\"},{\"start\":21,\"end\":36,\"cssClass\":\"pl-ent\"},{\"start\":37,\"end\":43,\"cssClass\":\"pl-e\"},{\"start\":44,\"end\":59,\"cssClass\":\"pl-s\"},{\"start\":44,\"end\":45,\"cssClass\":\"pl-pds\"},{\"start\":58,\"end\":59,\"cssClass\":\"pl-pds\"}],[{\"start\":14,\"end\":18,\"cssClass\":\"pl-ent\"}],[{\"start\":10,\"end\":14,\"cssClass\":\"pl-ent\"}],[{\"start\":6,\"end\":9,\"cssClass\":\"pl-ent\"},{\"start\":9,\"end\":10,\"cssClass\":\"pl-ent\"},{\"start\":10,\"end\":18,\"cssClass\":\"pl-ent\"}],[],[{\"start\":4,\"end\":44,\"cssClass\":\"pl-c\"},{\"start\":4,\"end\":8,\"cssClass\":\"pl-c\"},{\"start\":41,\"end\":44,\"cssClass\":\"pl-c\"}],[{\"start\":5,\"end\":8,\"cssClass\":\"pl-ent\"},{\"start\":8,\"end\":9,\"cssClass\":\"pl-ent\"},{\"start\":9,\"end\":17,\"cssClass\":\"pl-ent\"},{\"start\":18,\"end\":23,\"cssClass\":\"pl-e\"},{\"start\":24,\"end\":39,\"cssClass\":\"pl-s\"},{\"start\":24,\"end\":25,\"cssClass\":\"pl-pds\"},{\"start\":38,\"end\":39,\"cssClass\":\"pl-pds\"}],[{\"start\":9,\"end\":11,\"cssClass\":\"pl-ent\"},{\"start\":13,\"end\":16,\"cssClass\":\"pl-ent\"},{\"start\":16,\"end\":17,\"cssClass\":\"pl-ent\"},{\"start\":17,\"end\":25,\"cssClass\":\"pl-ent\"},{\"start\":26,\"end\":32,\"cssClass\":\"pl-e\"},{\"start\":33,\"end\":60,\"cssClass\":\"pl-s\"},{\"start\":33,\"end\":34,\"cssClass\":\"pl-pds\"},{\"start\":59,\"end\":60,\"cssClass\":\"pl-pds\"},{\"start\":64,\"end\":66,\"cssClass\":\"pl-ent\"}],[],[{\"start\":8,\"end\":66,\"cssClass\":\"pl-c\"},{\"start\":8,\"end\":12,\"cssClass\":\"pl-c\"},{\"start\":63,\"end\":66,\"cssClass\":\"pl-c\"}],[{\"start\":9,\"end\":12,\"cssClass\":\"pl-ent\"},{\"start\":12,\"end\":13,\"cssClass\":\"pl-ent\"},{\"start\":13,\"end\":28,\"cssClass\":\"pl-ent\"},{\"start\":29,\"end\":35,\"cssClass\":\"pl-e\"},{\"start\":36,\"end\":79,\"cssClass\":\"pl-s\"},{\"start\":36,\"end\":37,\"cssClass\":\"pl-pds\"},{\"start\":78,\"end\":79,\"cssClass\":\"pl-pds\"}],[],[{\"start\":8,\"end\":76,\"cssClass\":\"pl-c\"},{\"start\":8,\"end\":12,\"cssClass\":\"pl-c\"},{\"start\":73,\"end\":76,\"cssClass\":\"pl-c\"}],[{\"start\":9,\"end\":12,\"cssClass\":\"pl-ent\"},{\"start\":12,\"end\":13,\"cssClass\":\"pl-ent\"},{\"start\":13,\"end\":28,\"cssClass\":\"pl-ent\"},{\"start\":29,\"end\":35,\"cssClass\":\"pl-e\"},{\"start\":36,\"end\":60,\"cssClass\":\"pl-s\"},{\"start\":36,\"end\":37,\"cssClass\":\"pl-pds\"},{\"start\":59,\"end\":60,\"cssClass\":\"pl-pds\"}],[],[{\"start\":8,\"end\":76,\"cssClass\":\"pl-c\"},{\"start\":8,\"end\":12,\"cssClass\":\"pl-c\"},{\"start\":73,\"end\":76,\"cssClass\":\"pl-c\"}],[{\"start\":9,\"end\":12,\"cssClass\":\"pl-ent\"},{\"start\":12,\"end\":13,\"cssClass\":\"pl-ent\"},{\"start\":13,\"end\":28,\"cssClass\":\"pl-ent\"},{\"start\":29,\"end\":35,\"cssClass\":\"pl-e\"},{\"start\":36,\"end\":60,\"cssClass\":\"pl-s\"},{\"start\":36,\"end\":37,\"cssClass\":\"pl-pds\"},{\"start\":59,\"end\":60,\"cssClass\":\"pl-pds\"}],[],[{\"start\":8,\"end\":44,\"cssClass\":\"pl-c\"},{\"start\":8,\"end\":12,\"cssClass\":\"pl-c\"},{\"start\":41,\"end\":44,\"cssClass\":\"pl-c\"}],[{\"start\":6,\"end\":9,\"cssClass\":\"pl-ent\"},{\"start\":9,\"end\":10,\"cssClass\":\"pl-ent\"},{\"start\":10,\"end\":18,\"cssClass\":\"pl-ent\"}],[],[{\"start\":4,\"end\":45,\"cssClass\":\"pl-c\"},{\"start\":4,\"end\":8,\"cssClass\":\"pl-c\"},{\"start\":42,\"end\":45,\"cssClass\":\"pl-c\"}],[{\"start\":5,\"end\":8,\"cssClass\":\"pl-ent\"},{\"start\":8,\"end\":9,\"cssClass\":\"pl-ent\"},{\"start\":9,\"end\":17,\"cssClass\":\"pl-ent\"},{\"start\":18,\"end\":23,\"cssClass\":\"pl-e\"},{\"start\":24,\"end\":67,\"cssClass\":\"pl-s\"},{\"start\":24,\"end\":25,\"cssClass\":\"pl-pds\"},{\"start\":66,\"end\":67,\"cssClass\":\"pl-pds\"}],[{\"start\":9,\"end\":11,\"cssClass\":\"pl-ent\"}],[{\"start\":13,\"end\":16,\"cssClass\":\"pl-ent\"},{\"start\":16,\"end\":17,\"cssClass\":\"pl-ent\"},{\"start\":17,\"end\":25,\"cssClass\":\"pl-ent\"},{\"start\":26,\"end\":32,\"cssClass\":\"pl-e\"},{\"start\":33,\"end\":36,\"cssClass\":\"pl-s\"},{\"start\":33,\"end\":34,\"cssClass\":\"pl-pds\"},{\"start\":35,\"end\":36,\"cssClass\":\"pl-pds\"}],[{\"start\":17,\"end\":19,\"cssClass\":\"pl-ent\"},{\"start\":21,\"end\":24,\"cssClass\":\"pl-ent\"},{\"start\":24,\"end\":25,\"cssClass\":\"pl-ent\"},{\"start\":25,\"end\":33,\"cssClass\":\"pl-ent\"},{\"start\":34,\"end\":40,\"cssClass\":\"pl-e\"},{\"start\":41,\"end\":44,\"cssClass\":\"pl-s\"},{\"start\":41,\"end\":42,\"cssClass\":\"pl-pds\"},{\"start\":43,\"end\":44,\"cssClass\":\"pl-pds\"},{\"start\":48,\"end\":50,\"cssClass\":\"pl-ent\"}],[{\"start\":14,\"end\":17,\"cssClass\":\"pl-ent\"},{\"start\":17,\"end\":18,\"cssClass\":\"pl-ent\"},{\"start\":18,\"end\":26,\"cssClass\":\"pl-ent\"}],[{\"start\":10,\"end\":12,\"cssClass\":\"pl-ent\"}],[{\"start\":6,\"end\":9,\"cssClass\":\"pl-ent\"},{\"start\":9,\"end\":10,\"cssClass\":\"pl-ent\"},{\"start\":10,\"end\":18,\"cssClass\":\"pl-ent\"}],[],[{\"start\":4,\"end\":49,\"cssClass\":\"pl-c\"},{\"start\":4,\"end\":8,\"cssClass\":\"pl-c\"},{\"start\":46,\"end\":49,\"cssClass\":\"pl-c\"}],[{\"start\":5,\"end\":8,\"cssClass\":\"pl-ent\"},{\"start\":8,\"end\":9,\"cssClass\":\"pl-ent\"},{\"start\":9,\"end\":17,\"cssClass\":\"pl-ent\"},{\"start\":18,\"end\":23,\"cssClass\":\"pl-e\"},{\"start\":24,\"end\":48,\"cssClass\":\"pl-s\"},{\"start\":24,\"end\":25,\"cssClass\":\"pl-pds\"},{\"start\":47,\"end\":48,\"cssClass\":\"pl-pds\"}],[{\"start\":9,\"end\":11,\"cssClass\":\"pl-ent\"},{\"start\":13,\"end\":16,\"cssClass\":\"pl-ent\"},{\"start\":16,\"end\":17,\"cssClass\":\"pl-ent\"},{\"start\":17,\"end\":25,\"cssClass\":\"pl-ent\"},{\"start\":26,\"end\":32,\"cssClass\":\"pl-e\"},{\"start\":33,\"end\":47,\"cssClass\":\"pl-s\"},{\"start\":33,\"end\":34,\"cssClass\":\"pl-pds\"},{\"start\":46,\"end\":47,\"cssClass\":\"pl-pds\"},{\"start\":51,\"end\":53,\"cssClass\":\"pl-ent\"}],[{\"start\":8,\"end\":76,\"cssClass\":\"pl-c\"},{\"start\":8,\"end\":12,\"cssClass\":\"pl-c\"},{\"start\":73,\"end\":76,\"cssClass\":\"pl-c\"}],[{\"start\":9,\"end\":12,\"cssClass\":\"pl-ent\"},{\"start\":12,\"end\":13,\"cssClass\":\"pl-ent\"},{\"start\":13,\"end\":28,\"cssClass\":\"pl-ent\"},{\"start\":29,\"end\":35,\"cssClass\":\"pl-e\"},{\"start\":36,\"end\":53,\"cssClass\":\"pl-s\"},{\"start\":36,\"end\":37,\"cssClass\":\"pl-pds\"},{\"start\":52,\"end\":53,\"cssClass\":\"pl-pds\"}],[{\"start\":6,\"end\":9,\"cssClass\":\"pl-ent\"},{\"start\":9,\"end\":10,\"cssClass\":\"pl-ent\"},{\"start\":10,\"end\":18,\"cssClass\":\"pl-ent\"}],[],[{\"start\":4,\"end\":49,\"cssClass\":\"pl-c\"},{\"start\":4,\"end\":8,\"cssClass\":\"pl-c\"},{\"start\":46,\"end\":49,\"cssClass\":\"pl-c\"}],[{\"start\":5,\"end\":8,\"cssClass\":\"pl-ent\"},{\"start\":8,\"end\":9,\"cssClass\":\"pl-ent\"},{\"start\":9,\"end\":17,\"cssClass\":\"pl-ent\"},{\"start\":18,\"end\":23,\"cssClass\":\"pl-e\"},{\"start\":24,\"end\":48,\"cssClass\":\"pl-s\"},{\"start\":24,\"end\":25,\"cssClass\":\"pl-pds\"},{\"start\":47,\"end\":48,\"cssClass\":\"pl-pds\"}],[{\"start\":9,\"end\":11,\"cssClass\":\"pl-ent\"},{\"start\":13,\"end\":16,\"cssClass\":\"pl-ent\"},{\"start\":16,\"end\":17,\"cssClass\":\"pl-ent\"},{\"start\":17,\"end\":25,\"cssClass\":\"pl-ent\"},{\"start\":26,\"end\":32,\"cssClass\":\"pl-e\"},{\"start\":33,\"end\":47,\"cssClass\":\"pl-s\"},{\"start\":33,\"end\":34,\"cssClass\":\"pl-pds\"},{\"start\":46,\"end\":47,\"cssClass\":\"pl-pds\"},{\"start\":51,\"end\":53,\"cssClass\":\"pl-ent\"}],[{\"start\":8,\"end\":76,\"cssClass\":\"pl-c\"},{\"start\":8,\"end\":12,\"cssClass\":\"pl-c\"},{\"start\":73,\"end\":76,\"cssClass\":\"pl-c\"}],[{\"start\":9,\"end\":12,\"cssClass\":\"pl-ent\"},{\"start\":12,\"end\":13,\"cssClass\":\"pl-ent\"},{\"start\":13,\"end\":28,\"cssClass\":\"pl-ent\"},{\"start\":29,\"end\":35,\"cssClass\":\"pl-e\"},{\"start\":36,\"end\":53,\"cssClass\":\"pl-s\"},{\"start\":36,\"end\":37,\"cssClass\":\"pl-pds\"},{\"start\":52,\"end\":53,\"cssClass\":\"pl-pds\"}],[{\"start\":6,\"end\":9,\"cssClass\":\"pl-ent\"},{\"start\":9,\"end\":10,\"cssClass\":\"pl-ent\"},{\"start\":10,\"end\":18,\"cssClass\":\"pl-ent\"}],[],[{\"start\":4,\"end\":60,\"cssClass\":\"pl-c\"},{\"start\":4,\"end\":8,\"cssClass\":\"pl-c\"},{\"start\":57,\"end\":60,\"cssClass\":\"pl-c\"}],[{\"start\":2,\"end\":5,\"cssClass\":\"pl-ent\"},{\"start\":5,\"end\":6,\"cssClass\":\"pl-ent\"},{\"start\":6,\"end\":16,\"cssClass\":\"pl-ent\"}]],\"csv\":null,\"csvError\":null,\"dependabotInfo\":{\"showConfigurationBanner\":false,\"configFilePath\":null,\"networkDependabotPath\":\"/FloT10/MillerFlorinBA/network/updates\",\"dismissConfigurationNoticePath\":\"/settings/dismiss-notice/dependabot_configuration_notice\",\"configurationNoticeDismissed\":null},\"displayName\":\"transform.xslt\",\"displayUrl\":\"https://github.com/FloT10/MillerFlorinBA/blob/c60ce79783cdf3a9879b88448c7d054692c50ada/transform.xslt?raw=true\",\"headerInfo\":{\"blobSize\":\"2.05 KB\",\"deleteTooltip\":\"You must be signed in to make or propose changes\",\"editTooltip\":\"You must be signed in to make or propose changes\",\"deleteInfo\":{\"deleteTooltip\":\"You must be signed in to make or propose changes\"},\"editInfo\":{\"editTooltip\":\"You must be signed in to make or propose changes\"},\"ghDesktopPath\":null,\"isGitLfs\":false,\"gitLfsPath\":null,\"onBranch\":false,\"shortPath\":\"598fc9a\",\"siteNavLoginPath\":\"/login?return_to=https%3A%2F%2Fgithub.com%2FFloT10%2FMillerFlorinBA%2Fblob%2Fc60ce79783cdf3a9879b88448c7d054692c50ada%2Ftransform.xslt\",\"isCSV\":false,\"isRichtext\":false,\"toc\":null,\"lineInfo\":{\"truncatedLoc\":\"56\",\"truncatedSloc\":\"45\"},\"mode\":\"file\"},\"image\":false,\"isCodeownersFile\":null,\"isPlain\":false,\"isValidLegacyIssueTemplate\":false,\"issueTemplateHelpUrl\":\"https://docs.github.com/articles/about-issue-and-pull-request-templates\",\"issueTemplate\":null,\"discussionTemplate\":null,\"language\":\"XSLT\",\"languageID\":404,\"large\":false,\"loggedIn\":false,\"planSupportInfo\":{\"repoIsFork\":null,\"repoOwnedByCurrentUser\":null,\"requestFullPath\":\"/FloT10/MillerFlorinBA/blob/c60ce79783cdf3a9879b88448c7d054692c50ada/transform.xslt\",\"showFreeOrgGatedFeatureMessage\":null,\"showPlanSupportBanner\":null,\"upgradeDataAttributes\":null,\"upgradePath\":null},\"publishBannersInfo\":{\"dismissActionNoticePath\":\"/settings/dismiss-notice/publish_action_from_dockerfile\",\"releasePath\":\"/FloT10/MillerFlorinBA/releases/new?marketplace=true\",\"showPublishActionBanner\":false},\"rawBlobUrl\":\"https://github.com/FloT10/MillerFlorinBA/raw/c60ce79783cdf3a9879b88448c7d054692c50ada/transform.xslt\",\"renderImageOrRaw\":false,\"richText\":null,\"renderedFileInfo\":null,\"shortPath\":null,\"symbolsEnabled\":true,\"tabSize\":8,\"topBannersInfo\":{\"overridingGlobalFundingFile\":false,\"globalPreferredFundingPath\":null,\"repoOwner\":\"FloT10\",\"repoName\":\"MillerFlorinBA\",\"showInvalidCitationWarning\":false,\"citationHelpUrl\":\"https://docs.github.com/github/creating-cloning-and-archiving-repositories/creating-a-repository-on-github/about-citation-files\",\"actionsOnboardingTip\":null},\"truncated\":false,\"viewable\":true,\"workflowRedirectUrl\":null,\"symbols\":{\"timed_out\":false,\"not_analyzed\":true,\"symbols\":[]}},\"copilotInfo\":null,\"copilotAccessAllowed\":false,\"csrf_tokens\":{\"/FloT10/MillerFlorinBA/branches\":{\"post\":\"9gXhqjN30zIhI1HOM_jvtXbS0m6C6q3OZIugdNBHz5LLRpznbLze2FEBqxXxBa4QQWTjs2z2eJyVw0YDxvpwlw\"},\"/repos/preferences\":{\"post\":\"8-PE56IHkXHXKkPe03ObVoz6m6O2rmC0_zsJahhpdrQpMxAuFJJFuPhhcoDDhEurFuhlu-uoGVzG6OZI-IF-fQ\"}}},\"title\":\"MillerFlorinBA/transform.xslt at c60ce79783cdf3a9879b88448c7d054692c50ada · FloT10/MillerFlorinBA\"}\n"
     ]
    }
   ],
   "source": [
    "# GitHub Raw-URL für die XSLT\n",
    "github_url_xslt = 'https://github.com/FloT10/MillerFlorinBA/blob/c60ce79783cdf3a9879b88448c7d054692c50ada/transform.xslt'\n",
    "\n",
    "# Herunterladen der XSLT-Datei von der GitHub-URL.\n",
    "response = requests.get(github_url_xslt)\n",
    "\n",
    "# Speichern der heruntergeladenen XSLT-Datei lokal im Textmodus ('w').\n",
    "with open('/tmp/transform.xslt', 'w') as file:\n",
    "    file.write(response.text)\n",
    "\n",
    "# Definieren eines Dateipfades zur lokal gespeicherten XSLT-Datei zur weiteren Verwendung.\n",
    "transform_xslt_path = \"/tmp/transform.xslt\"\n",
    "\n",
    "# Öffne die Datei und lese ihren Inhalt.\n",
    "with open(transform_xslt_path, 'r') as file:\n",
    "    transform_xslt_content = file.read()\n",
    "\n",
    "# Gib den Inhalt der XSLT-Datei aus.\n",
    "print(transform_xslt_content)\n",
    "\n",
    "# Da Probleme mit Pfad vorübergehende Alternative\n",
    "xslt_path = \"/Users/millerfl/Desktop/transform.xslt\""
   ]
  },
  {
   "cell_type": "code",
   "execution_count": 31,
   "metadata": {},
   "outputs": [
    {
     "name": "stdout",
     "output_type": "stream",
     "text": [
      "Aktuelles Arbeitsverzeichnis: /\n"
     ]
    }
   ],
   "source": [
    "import os\n",
    "\n",
    "# Aktuelles Arbeitsverzeichnis anzeigen\n",
    "current_directory = os.getcwd()\n",
    "print(\"Aktuelles Arbeitsverzeichnis:\", current_directory)\n"
   ]
  },
  {
   "cell_type": "code",
   "execution_count": 32,
   "metadata": {},
   "outputs": [
    {
     "name": "stdout",
     "output_type": "stream",
     "text": [
      "<formblatt_6_2>&lt;?xml version=\"1.0\" encoding=\"UTF-8\"?&gt;<tabelle_kopf><ueberschrift>Angaben zum Formblatt</ueberschrift><spalten><spalte>Antragsunterlage</spalte><spalte>Anlage 1 / Formblatt 6.2</spalte></spalten><daten><zeile><wert>Für immissionsschutzrechtliches Genehmigungsverfahren</wert><wert>Detailangaben / Wassergefährdende Stoffe</wert></zeile></daten></tabelle_kopf><tabelle_angaben_anlage><ueberschrift>Angaben zur Anlage</ueberschrift><spalten><spalte>Anlagenart</spalte><spalte>Anlagenbezeichnung</spalte><spalte>Anlagenumfang</spalte></spalten><daten><zeile><wert>HBV-Anlage</wert><wert>C01V01-HEX.EX03</wert><wert>Zentrifugalpumpe, Rohrleitungssystem, Kolbenpumpe, Plattenwärmetauscher, Behälter, Rohrbündelwärmetauscher</wert></zeile></daten></tabelle_angaben_anlage><tabelle_angaben_stoffe><ueberschrift>Angaben zu den wassergefährdenden Stoffen</ueberschrift><spalten><spalte>Bezeichnung</spalte><spalte>Aggregatzustand</spalte><spalte>WGK</spalte><spalte>Volumen (m3) / Masse (t)</spalte></spalten><daten><zeile><wert>MNc</wert><wert>flüssig</wert><wert>WGK3</wert><wert>22</wert></zeile></daten></tabelle_angaben_stoffe><tabelle_angaben_gefäaehrdungsstufe><ueberschrift>Ermittlung der Gefährdungsstufe der Anlage nach §39 AwSV</ueberschrift><spalten><spalte>Bezeichnung</spalte><spalte>Aggregatzustand</spalte><spalte>WGK</spalte><spalte>Volumen (m3) / Masse (t)</spalte></spalten><daten><zeile><wert>MNc</wert><wert>flüssig</wert><wert>WGK3</wert><wert>22</wert></zeile></daten></tabelle_angaben_gefäaehrdungsstufe><tabelle_angaben_gefäaehrdungsstufe><ueberschrift>Ermittlung der Gefährdungsstufe der Anlage nach §39 AwSV</ueberschrift><spalten><spalte>Maßgebendes Volumen</spalte><spalte>Maßgebende WGK</spalte><spalte>Gefährdungsstufe</spalte></spalten><daten><zeile><wert>22</wert><wert>WGK3</wert><wert>D</wert></zeile></daten></tabelle_angaben_gefäaehrdungsstufe><tabelle_angaben_behaelter><ueberschrift>Angaben zu Behältern</ueberschrift><spalten><spalte>Tanknummer</spalte><spalte>Stoff</spalte><spalte>einwandig / doppelwandig</spalte><spalte>Material</spalte><spalte>Zulassung</spalte></spalten><daten><zeile><wert>T4750</wert><wert>MNc</wert><wert>einwandig</wert><wert>Metall</wert><wert>DIN-Norm</wert></zeile></daten></tabelle_angaben_behaelter><tabelle_angaben_rohrleitungen><ueberschrift>Angaben zu Rohrleitungen</ueberschrift><spalten><spalte>Bauart</spalte><spalte>oberirdisch / unterirdisch</spalte><spalte>Anzahl</spalte><spalte>Material</spalte><spalte>Zulassung</spalte></spalten><daten><zeile><wert>Einwandige Rohrleitung</wert><wert>oberirdisch</wert><wert>7</wert><wert>Metall</wert><wert>DIN-Norm</wert></zeile></daten></tabelle_angaben_rohrleitungen></formblatt_6_2>\n"
     ]
    },
    {
     "ename": "OSError",
     "evalue": "Error reading file '/Users/millerfl/Desktop/transform.xslt': failed to load external entity \"/Users/millerfl/Desktop/transform.xslt\"",
     "output_type": "error",
     "traceback": [
      "\u001b[0;31m---------------------------------------------------------------------------\u001b[0m",
      "\u001b[0;31mOSError\u001b[0m                                   Traceback (most recent call last)",
      "Cell \u001b[0;32mIn[32], line 7\u001b[0m\n\u001b[1;32m      4\u001b[0m \u001b[38;5;28mprint\u001b[39m(xml_str)\n\u001b[1;32m      6\u001b[0m \u001b[38;5;66;03m# Laden der XSLT-Datei\u001b[39;00m\n\u001b[0;32m----> 7\u001b[0m xslt_root \u001b[38;5;241m=\u001b[39m \u001b[43metree\u001b[49m\u001b[38;5;241;43m.\u001b[39;49m\u001b[43mparse\u001b[49m\u001b[43m(\u001b[49m\u001b[43mxslt_path\u001b[49m\u001b[43m)\u001b[49m\n\u001b[1;32m      8\u001b[0m transform \u001b[38;5;241m=\u001b[39m etree\u001b[38;5;241m.\u001b[39mXSLT(xslt_root)\n\u001b[1;32m      9\u001b[0m xml_tree \u001b[38;5;241m=\u001b[39m etree\u001b[38;5;241m.\u001b[39mfromstring(xml_str)\n",
      "File \u001b[0;32msrc/lxml/etree.pyx:3547\u001b[0m, in \u001b[0;36mlxml.etree.parse\u001b[0;34m()\u001b[0m\n",
      "File \u001b[0;32msrc/lxml/parser.pxi:1952\u001b[0m, in \u001b[0;36mlxml.etree._parseDocument\u001b[0;34m()\u001b[0m\n",
      "File \u001b[0;32msrc/lxml/parser.pxi:1978\u001b[0m, in \u001b[0;36mlxml.etree._parseDocumentFromURL\u001b[0;34m()\u001b[0m\n",
      "File \u001b[0;32msrc/lxml/parser.pxi:1881\u001b[0m, in \u001b[0;36mlxml.etree._parseDocFromFile\u001b[0;34m()\u001b[0m\n",
      "File \u001b[0;32msrc/lxml/parser.pxi:1200\u001b[0m, in \u001b[0;36mlxml.etree._BaseParser._parseDocFromFile\u001b[0;34m()\u001b[0m\n",
      "File \u001b[0;32msrc/lxml/parser.pxi:633\u001b[0m, in \u001b[0;36mlxml.etree._ParserContext._handleParseResultDoc\u001b[0;34m()\u001b[0m\n",
      "File \u001b[0;32msrc/lxml/parser.pxi:743\u001b[0m, in \u001b[0;36mlxml.etree._handleParseResult\u001b[0;34m()\u001b[0m\n",
      "File \u001b[0;32msrc/lxml/parser.pxi:670\u001b[0m, in \u001b[0;36mlxml.etree._raiseParseError\u001b[0;34m()\u001b[0m\n",
      "\u001b[0;31mOSError\u001b[0m: Error reading file '/Users/millerfl/Desktop/transform.xslt': failed to load external entity \"/Users/millerfl/Desktop/transform.xslt\""
     ]
    }
   ],
   "source": [
    "from lxml import etree\n",
    "\n",
    "#Zurückgreifen auf vorhanden String\n",
    "print(xml_str)\n",
    "\n",
    "# Laden der XSLT-Datei\n",
    "xslt_root = etree.parse(xslt_path)\n",
    "transform = etree.XSLT(xslt_root)\n",
    "xml_tree = etree.fromstring(xml_str)\n",
    "\n",
    "result = transform(xml_tree)\n",
    "\n",
    "#with open(\"output.html\", \"wb\") as f:\n",
    "#    f.write(result)"
   ]
  },
  {
   "cell_type": "code",
   "execution_count": null,
   "metadata": {},
   "outputs": [
    {
     "ename": "OSError",
     "evalue": "No such file: output.html",
     "output_type": "error",
     "traceback": [
      "\u001b[0;31m---------------------------------------------------------------------------\u001b[0m",
      "\u001b[0;31mOSError\u001b[0m                                   Traceback (most recent call last)",
      "Cell \u001b[0;32mIn[123], line 3\u001b[0m\n\u001b[1;32m      1\u001b[0m \u001b[38;5;28;01mimport\u001b[39;00m \u001b[38;5;21;01mpdfkit\u001b[39;00m\n\u001b[0;32m----> 3\u001b[0m \u001b[43mpdfkit\u001b[49m\u001b[38;5;241;43m.\u001b[39;49m\u001b[43mfrom_file\u001b[49m\u001b[43m(\u001b[49m\u001b[38;5;124;43m\"\u001b[39;49m\u001b[38;5;124;43moutput.html\u001b[39;49m\u001b[38;5;124;43m\"\u001b[39;49m\u001b[43m,\u001b[49m\u001b[43m \u001b[49m\u001b[38;5;124;43m\"\u001b[39;49m\u001b[38;5;124;43moutput.pdf\u001b[39;49m\u001b[38;5;124;43m\"\u001b[39;49m\u001b[43m)\u001b[49m\n",
      "File \u001b[0;32m~/anaconda3/envs/schemaextraction/lib/python3.12/site-packages/pdfkit/api.py:48\u001b[0m, in \u001b[0;36mfrom_file\u001b[0;34m(input, output_path, options, toc, cover, css, configuration, cover_first, verbose)\u001b[0m\n\u001b[1;32m     30\u001b[0m \u001b[38;5;28;01mdef\u001b[39;00m \u001b[38;5;21mfrom_file\u001b[39m(\u001b[38;5;28minput\u001b[39m, output_path\u001b[38;5;241m=\u001b[39m\u001b[38;5;28;01mNone\u001b[39;00m, options\u001b[38;5;241m=\u001b[39m\u001b[38;5;28;01mNone\u001b[39;00m, toc\u001b[38;5;241m=\u001b[39m\u001b[38;5;28;01mNone\u001b[39;00m, cover\u001b[38;5;241m=\u001b[39m\u001b[38;5;28;01mNone\u001b[39;00m, css\u001b[38;5;241m=\u001b[39m\u001b[38;5;28;01mNone\u001b[39;00m,\n\u001b[1;32m     31\u001b[0m               configuration\u001b[38;5;241m=\u001b[39m\u001b[38;5;28;01mNone\u001b[39;00m, cover_first\u001b[38;5;241m=\u001b[39m\u001b[38;5;28;01mFalse\u001b[39;00m, verbose\u001b[38;5;241m=\u001b[39m\u001b[38;5;28;01mFalse\u001b[39;00m):\n\u001b[1;32m     32\u001b[0m \u001b[38;5;250m    \u001b[39m\u001b[38;5;124;03m\"\"\"\u001b[39;00m\n\u001b[1;32m     33\u001b[0m \u001b[38;5;124;03m    Convert HTML file or files to PDF document\u001b[39;00m\n\u001b[1;32m     34\u001b[0m \n\u001b[0;32m   (...)\u001b[0m\n\u001b[1;32m     45\u001b[0m \u001b[38;5;124;03m    Returns: True on success\u001b[39;00m\n\u001b[1;32m     46\u001b[0m \u001b[38;5;124;03m    \"\"\"\u001b[39;00m\n\u001b[0;32m---> 48\u001b[0m     r \u001b[38;5;241m=\u001b[39m \u001b[43mPDFKit\u001b[49m\u001b[43m(\u001b[49m\u001b[38;5;28;43minput\u001b[39;49m\u001b[43m,\u001b[49m\u001b[43m \u001b[49m\u001b[38;5;124;43m'\u001b[39;49m\u001b[38;5;124;43mfile\u001b[39;49m\u001b[38;5;124;43m'\u001b[39;49m\u001b[43m,\u001b[49m\u001b[43m \u001b[49m\u001b[43moptions\u001b[49m\u001b[38;5;241;43m=\u001b[39;49m\u001b[43moptions\u001b[49m\u001b[43m,\u001b[49m\u001b[43m \u001b[49m\u001b[43mtoc\u001b[49m\u001b[38;5;241;43m=\u001b[39;49m\u001b[43mtoc\u001b[49m\u001b[43m,\u001b[49m\u001b[43m \u001b[49m\u001b[43mcover\u001b[49m\u001b[38;5;241;43m=\u001b[39;49m\u001b[43mcover\u001b[49m\u001b[43m,\u001b[49m\u001b[43m \u001b[49m\u001b[43mcss\u001b[49m\u001b[38;5;241;43m=\u001b[39;49m\u001b[43mcss\u001b[49m\u001b[43m,\u001b[49m\n\u001b[1;32m     49\u001b[0m \u001b[43m               \u001b[49m\u001b[43mconfiguration\u001b[49m\u001b[38;5;241;43m=\u001b[39;49m\u001b[43mconfiguration\u001b[49m\u001b[43m,\u001b[49m\u001b[43m \u001b[49m\u001b[43mcover_first\u001b[49m\u001b[38;5;241;43m=\u001b[39;49m\u001b[43mcover_first\u001b[49m\u001b[43m,\u001b[49m\u001b[43m \u001b[49m\u001b[43mverbose\u001b[49m\u001b[38;5;241;43m=\u001b[39;49m\u001b[43mverbose\u001b[49m\u001b[43m)\u001b[49m\n\u001b[1;32m     51\u001b[0m     \u001b[38;5;28;01mreturn\u001b[39;00m r\u001b[38;5;241m.\u001b[39mto_pdf(output_path)\n",
      "File \u001b[0;32m~/anaconda3/envs/schemaextraction/lib/python3.12/site-packages/pdfkit/pdfkit.py:44\u001b[0m, in \u001b[0;36mPDFKit.__init__\u001b[0;34m(self, url_or_file, type_, options, toc, cover, css, configuration, cover_first, verbose)\u001b[0m\n\u001b[1;32m     41\u001b[0m \u001b[38;5;28;01mdef\u001b[39;00m \u001b[38;5;21m__init__\u001b[39m(\u001b[38;5;28mself\u001b[39m, url_or_file, type_, options\u001b[38;5;241m=\u001b[39m\u001b[38;5;28;01mNone\u001b[39;00m, toc\u001b[38;5;241m=\u001b[39m\u001b[38;5;28;01mNone\u001b[39;00m, cover\u001b[38;5;241m=\u001b[39m\u001b[38;5;28;01mNone\u001b[39;00m,\n\u001b[1;32m     42\u001b[0m              css\u001b[38;5;241m=\u001b[39m\u001b[38;5;28;01mNone\u001b[39;00m, configuration\u001b[38;5;241m=\u001b[39m\u001b[38;5;28;01mNone\u001b[39;00m, cover_first\u001b[38;5;241m=\u001b[39m\u001b[38;5;28;01mFalse\u001b[39;00m, verbose\u001b[38;5;241m=\u001b[39m\u001b[38;5;28;01mFalse\u001b[39;00m):\n\u001b[0;32m---> 44\u001b[0m     \u001b[38;5;28mself\u001b[39m\u001b[38;5;241m.\u001b[39msource \u001b[38;5;241m=\u001b[39m \u001b[43mSource\u001b[49m\u001b[43m(\u001b[49m\u001b[43murl_or_file\u001b[49m\u001b[43m,\u001b[49m\u001b[43m \u001b[49m\u001b[43mtype_\u001b[49m\u001b[43m)\u001b[49m\n\u001b[1;32m     45\u001b[0m     \u001b[38;5;28mself\u001b[39m\u001b[38;5;241m.\u001b[39mconfiguration \u001b[38;5;241m=\u001b[39m (Configuration() \u001b[38;5;28;01mif\u001b[39;00m configuration \u001b[38;5;129;01mis\u001b[39;00m \u001b[38;5;28;01mNone\u001b[39;00m\n\u001b[1;32m     46\u001b[0m                           \u001b[38;5;28;01melse\u001b[39;00m configuration)\n\u001b[1;32m     47\u001b[0m     \u001b[38;5;28;01mtry\u001b[39;00m:\n",
      "File \u001b[0;32m~/anaconda3/envs/schemaextraction/lib/python3.12/site-packages/pdfkit/source.py:20\u001b[0m, in \u001b[0;36mSource.__init__\u001b[0;34m(self, url_or_file, type_)\u001b[0m\n\u001b[1;32m     17\u001b[0m \u001b[38;5;28mself\u001b[39m\u001b[38;5;241m.\u001b[39mtype \u001b[38;5;241m=\u001b[39m type_\n\u001b[1;32m     19\u001b[0m \u001b[38;5;28;01mif\u001b[39;00m \u001b[38;5;28mself\u001b[39m\u001b[38;5;241m.\u001b[39mtype \u001b[38;5;241m==\u001b[39m \u001b[38;5;124m'\u001b[39m\u001b[38;5;124mfile\u001b[39m\u001b[38;5;124m'\u001b[39m:\n\u001b[0;32m---> 20\u001b[0m     \u001b[38;5;28;43mself\u001b[39;49m\u001b[38;5;241;43m.\u001b[39;49m\u001b[43mcheckFiles\u001b[49m\u001b[43m(\u001b[49m\u001b[43m)\u001b[49m\n",
      "File \u001b[0;32m~/anaconda3/envs/schemaextraction/lib/python3.12/site-packages/pdfkit/source.py:40\u001b[0m, in \u001b[0;36mSource.checkFiles\u001b[0;34m(self)\u001b[0m\n\u001b[1;32m     38\u001b[0m \u001b[38;5;28;01melse\u001b[39;00m:\n\u001b[1;32m     39\u001b[0m     \u001b[38;5;28;01mif\u001b[39;00m \u001b[38;5;129;01mnot\u001b[39;00m \u001b[38;5;28mhasattr\u001b[39m(\u001b[38;5;28mself\u001b[39m\u001b[38;5;241m.\u001b[39msource, \u001b[38;5;124m'\u001b[39m\u001b[38;5;124mread\u001b[39m\u001b[38;5;124m'\u001b[39m) \u001b[38;5;129;01mand\u001b[39;00m \u001b[38;5;129;01mnot\u001b[39;00m os\u001b[38;5;241m.\u001b[39mpath\u001b[38;5;241m.\u001b[39mexists(\u001b[38;5;28mself\u001b[39m\u001b[38;5;241m.\u001b[39msource):\n\u001b[0;32m---> 40\u001b[0m         \u001b[38;5;28;01mraise\u001b[39;00m \u001b[38;5;167;01mIOError\u001b[39;00m(\u001b[38;5;124m'\u001b[39m\u001b[38;5;124mNo such file: \u001b[39m\u001b[38;5;132;01m%s\u001b[39;00m\u001b[38;5;124m'\u001b[39m \u001b[38;5;241m%\u001b[39m \u001b[38;5;28mself\u001b[39m\u001b[38;5;241m.\u001b[39msource)\n",
      "\u001b[0;31mOSError\u001b[0m: No such file: output.html"
     ]
    }
   ],
   "source": [
    "import pdfkit\n",
    "\n",
    "pdfkit.from_file(\"output.html\", \"output.pdf\")\n"
   ]
  },
  {
   "cell_type": "markdown",
   "metadata": {},
   "source": [
    "Test auf Zugriff \n",
    "(Ausführen im Terminal)\n",
    "ls -l /Users/millerfl/Desktop/formblatt_6_2.pdf"
   ]
  },
  {
   "cell_type": "markdown",
   "metadata": {},
   "source": [
    "Sonstiges"
   ]
  },
  {
   "cell_type": "code",
   "execution_count": null,
   "metadata": {},
   "outputs": [
    {
     "name": "stdout",
     "output_type": "stream",
     "text": [
      "{'anlagenbezeichnung': 'C01V01-HEX.EX03', 'component_classes': ['Tank', 'ReciprocatingPump', 'CentrifugalPump', 'ShellAndTubeHeatExchanger', 'PlateAndShellHeatExchanger', 'Tank', 'ReciprocatingPump', 'CentrifugalPump', 'ShellAndTubeHeatExchanger', 'PlateAndShellHeatExchanger', 'PipingNetworkSystem', 'PipingNetworkSystem', 'PipingNetworkSystem', 'PipingNetworkSystem', 'PipingNetworkSystem', 'PipingNetworkSystem', 'PipingNetworkSystem', 'PipingNetworkSystem', 'PipingNetworkSystem', 'PipingNetworkSystem', 'PipingNetworkSystem', 'PipingNetworkSystem', 'PipingNetworkSystem', 'PipingNetworkSystem'], 'Anlagenumfang': {'PipingNetworkSystem': {}, 'ReciprocatingPump': {}, 'PlateAndShellHeatExchanger': {}, 'ShellAndTubeHeatExchanger': {}, 'Tank': {}, 'CentrifugalPump': {}}}\n"
     ]
    }
   ],
   "source": [
    "# Später für Aufzählung\n",
    "# Funktion zum Laden und Extrahieren von Daten aus der DEXPI-Datei.\n",
    "def lade_daten(dexpi_xml):\n",
    "    try:\n",
    "        # Lade das XML-Dokument und erhalte die Wurzel des Baums.\n",
    "        tree = ET.parse(dexpi_xml)\n",
    "        root = tree.getroot()\n",
    "\n",
    "        # Extrahiere die Anlagenbezeichnung aus dem XML-Baum.\n",
    "        anlagenbezeichnung = root.find('.//Drawing').get('Name')\n",
    "\n",
    "        # Extrahiere ComponentClass aus allen Equipment- und PipingNetworkSystem-Elementen.\n",
    "        equipment_elements = root.findall('.//Equipment')\n",
    "        piping_network_system_elements = root.findall('.//PipingNetworkSystem')\n",
    "\n",
    "        component_classes = []\n",
    "\n",
    "        for equipment_element in equipment_elements:\n",
    "            component_class = equipment_element.get('ComponentClass')\n",
    "\n",
    "            # Überprüfe, ob die ComponentClass den erlaubten Werten entspricht.\n",
    "            erlaubte_component_classes = ['Tank', 'ReciprocatingPump', 'CentrifugalPump', 'PlateAndShellHeatExchanger', 'ShellAndTubeHeatExchanger']\n",
    "            if component_class in erlaubte_component_classes:\n",
    "                component_classes.append(component_class)\n",
    "\n",
    "        for piping_network_system_element in piping_network_system_elements:\n",
    "            component_class = piping_network_system_element.get('ComponentClass')\n",
    "\n",
    "            # Überprüfe, ob die ComponentClass den erlaubten Werten entspricht.\n",
    "            erlaubte_component_classes = ['PipingNetworkSystem']\n",
    "            if component_class in erlaubte_component_classes:\n",
    "                component_classes.append(component_class)\n",
    "\n",
    "        # Überprüfe, ob mindestens eine gültige ComponentClass gefunden wurde.\n",
    "        if not component_classes:\n",
    "            raise ValueError(\"Keine gültige ComponentClass gefunden.\")\n",
    "\n",
    "        # Weitere Werte können entsprechend extrahiert werden.\n",
    "\n",
    "        # Entferne Duplikate und erstelle ein eindeutiges Set von Komponentenklassen.\n",
    "        unique_component_classes = set(component_classes)\n",
    "\n",
    "        # Erstelle ein Dictionary mit dem Namen Anlagenumfang, in dem jede ComponentClass nur einmal vorkommt.\n",
    "        Anlagenumfang = {klass: {} for klass in unique_component_classes}\n",
    "\n",
    "        # Gib ein Dictionary mit den extrahierten Werten zurück.\n",
    "        return {\n",
    "            'anlagenbezeichnung': anlagenbezeichnung,\n",
    "            'component_classes': component_classes,\n",
    "            'Anlagenumfang': Anlagenumfang,\n",
    "            # Weitere extrahierte Werte können hier hinzugefügt werden.\n",
    "        }\n",
    "\n",
    "    except Exception as e:\n",
    "        # Falls ein Fehler auftritt, gib eine Fehlermeldung aus und gibt None zurück.\n",
    "        print(f\"Fehler beim Laden und Extrahieren der Daten: {e}\")\n",
    "        return None\n",
    "\n",
    "# Beispielaufruf der Funktion und Ausgabe der extrahierten Daten.\n",
    "daten = lade_daten(dexpi_xml)\n",
    "print(daten)\n"
   ]
  },
  {
   "cell_type": "code",
   "execution_count": null,
   "metadata": {},
   "outputs": [
    {
     "name": "stdout",
     "output_type": "stream",
     "text": [
      "Anlagenbezeichnung zur Kontrolle: C01V01-HEX.EX03\n",
      "Fehler beim Befüllen und Speichern des Formblatts: mismatched tag: line 233, column 2\n"
     ]
    }
   ],
   "source": [
    "import requests\n",
    "import xml.etree.ElementTree as ET\n",
    "\n",
    "# GitHub Raw-URL für die DEXPI-R&I Datei\n",
    "github_url_dexpi = 'https://raw.githubusercontent.com/FloT10/MillerFlorinBA/main/C01V01-HEX.EX03.xml'\n",
    "# GitHub Raw-URL für die Formblatt-Vorlage\n",
    "github_url_formblatt = 'https://raw.githubusercontent.com/FloT10/MillerFlorinBA/main/formblatt_6.2.xml'\n",
    "\n",
    "# Dateien lokal speichern\n",
    "def lade_und_speichere(url, lokal_path):\n",
    "    response = requests.get(url)\n",
    "    with open(lokal_path, 'w') as file:\n",
    "        file.write(response.text)\n",
    "\n",
    "# Laden und Speichern der DEXPI-R&I Datei\n",
    "dexpi_xml = '/tmp/C01V01-HEX.EX03.xml'\n",
    "lade_und_speichere(github_url_dexpi, dexpi_xml)\n",
    "\n",
    "# Laden und Speichern der Formblatt-Vorlage\n",
    "formblatt_vorlage = '/tmp/formblatt_6.2.xml'\n",
    "lade_und_speichere(github_url_formblatt, formblatt_vorlage)\n",
    "\n",
    "# Funktion zum Laden und Extrahieren der Werte aus dem DEXPI-R&I\n",
    "def lade_daten(dexpi_xml):\n",
    "    try:\n",
    "        # Laden des DEXPI-R&I Dokuments\n",
    "        tree = ET.parse(dexpi_xml)\n",
    "        root = tree.getroot()\n",
    "\n",
    "        # Extrahieren der Werte, wie benötigt\n",
    "        anlagenbezeichnung = root.find('.//Drawing').get('Name')\n",
    "        # Weitere Werte entsprechend extrahieren\n",
    "\n",
    "        # Kontrollausgabe der Anlagenbezeichnung\n",
    "        print(f\"Anlagenbezeichnung zur Kontrolle: {anlagenbezeichnung}\")\n",
    "\n",
    "        return {\n",
    "            'anlagenbezeichnung': anlagenbezeichnung,\n",
    "            # Weitere extrahierte Werte hinzufügen\n",
    "        }\n",
    "\n",
    "    except Exception as e:\n",
    "        print(f\"Fehler beim Laden und Extrahieren der Daten aus DEXPI-R&I: {e}\")\n",
    "        return None\n",
    "\n",
    "# Funktion zum Befüllen der Formblatt-Vorlage mit den extrahierten DEXPI-R&I Daten\n",
    "def befuellen_und_speichern(formblatt_vorlage, formblatt_befüllt, daten):\n",
    "    try:\n",
    "        tree = ET.parse(formblatt_vorlage)\n",
    "        root = tree.getroot()\n",
    "\n",
    "        # Befülle die Vorlage mit den extrahierten Daten\n",
    "        root.find('.//anlagenbezeichnung').text = daten['anlagenbezeichnung']\n",
    "        # Weitere Werte in der Vorlage entsprechend befüllen\n",
    "\n",
    "        # Speichere die befüllte Vorlage als neue Datei\n",
    "        tree.write(formblatt_befüllt)\n",
    "\n",
    "        print(f\"Das Formblatt wurde erfolgreich mit den Daten befüllt und unter {formblatt_befüllt} gespeichert.\")\n",
    "\n",
    "    except Exception as e:\n",
    "        print(f\"Fehler beim Befüllen und Speichern des Formblatts: {e}\")\n",
    "\n",
    "# Lade Daten aus der DEXPI-R&I Datei\n",
    "daten_dexpi = lade_daten(dexpi_xml)\n",
    "\n",
    "# Lade die Formblatt-Vorlage\n",
    "formblatt_befüllt= '/tmp/Ziel/Formblatt_befüllt.xml'\n",
    "\n",
    "# Befülle die Formblatt-Vorlage und speichere das Ergebnis\n",
    "befuellen_und_speichern(formblatt_vorlage, formblatt_befüllt, daten_dexpi)\n"
   ]
  }
 ],
 "metadata": {
  "kernelspec": {
   "display_name": "schemaextraction",
   "language": "python",
   "name": "python3"
  },
  "language_info": {
   "codemirror_mode": {
    "name": "ipython",
    "version": 3
   },
   "file_extension": ".py",
   "mimetype": "text/x-python",
   "name": "python",
   "nbconvert_exporter": "python",
   "pygments_lexer": "ipython3",
   "version": "3.12.0"
  }
 },
 "nbformat": 4,
 "nbformat_minor": 2
}

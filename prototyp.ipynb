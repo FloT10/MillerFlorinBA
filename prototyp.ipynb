{
 "cells": [
  {
   "cell_type": "markdown",
   "metadata": {},
   "source": [
    "Umgebung einrichten.\n",
    "Hierzu ein How-to"
   ]
  },
  {
   "cell_type": "code",
   "execution_count": null,
   "metadata": {},
   "outputs": [],
   "source": [
    "%pip install --upgrade --quiet langchain langchain-openai\n",
    "%pip install python-dotenv\n",
    "%pip install translate"
   ]
  },
  {
   "cell_type": "markdown",
   "metadata": {},
   "source": [
    "Verfügbarmachen des DEXPI-R&Is von GitHub"
   ]
  },
  {
   "cell_type": "code",
   "execution_count": 28,
   "metadata": {},
   "outputs": [],
   "source": [
    "# Importieren des 'requests'-Moduls, um Daten von einer URL herunterzuladen, und das 'xml.etree.ElementTree'-Modul, um XML-Daten zu verarbeiten.\n",
    "import requests\n",
    "import xml.etree.ElementTree as ET\n",
    "\n",
    "# GitHub Raw-URLs für die DEXPI-Dateie und die Formblatt-Vorlage.\n",
    "github_url_dexpi = 'https://raw.githubusercontent.com/FloT10/MillerFlorinBA/main/C01V01-HEX.EX03.xml'\n",
    "github_url_formblatt = 'https://raw.githubusercontent.com/FloT10/MillerFlorinBA/main/formblatt_6.2.xml'\n",
    "\n",
    "# Herunterladen der DEXPI-Datei von der GitHub-URL.\n",
    "response = requests.get(github_url_dexpi)\n",
    "\n",
    "# Speichern der heruntergeladenen DEXPI-Datei lokal im Textmodus ('w').\n",
    "with open('/tmp/C01V01-HEX.EX03.xml', 'w') as file:\n",
    "    file.write(response.text)\n",
    "\n",
    "# Definieren eines Dateipfades zur lokal gespeicherten DEXPI-Datei zur weiteren Verwendung.\n",
    "dexpi_xml = \"/tmp/C01V01-HEX.EX03.xml\""
   ]
  },
  {
   "cell_type": "markdown",
   "metadata": {},
   "source": [
    "Prüfen der DEXPI-Datei"
   ]
  },
  {
   "cell_type": "code",
   "execution_count": 29,
   "metadata": {},
   "outputs": [
    {
     "name": "stdout",
     "output_type": "stream",
     "text": [
      "<?xml version=\"1.0\" encoding=\"utf-8\"?>\n",
      "<PlantModel xmlns:xsi=\"http://www.w3.org/2001/XMLSchema-instance\" xsi:noNamespaceSchemaLocation=\"../ProteusPIDSchema_4.0.1.xsd\">\n",
      "  <!--Created with INGR ISO15926 PostProc V0.0.7.1 and ConfigurationFileVersion 1.1 by PPM-VM-2014-R1\\Intergraph on PPM-VM-2014-R1 at 4/12/2018 5:14:33 PM-->\n",
      "  <PlantInformation SchemaVersion=\"4.0.1\" OriginatingSystem=\"SPPID\" Date=\"2018-04-12\" Time=\"15:13:38.0000000+02:00\" Is3D=\"no\" Units=\"Metre\" Discipline=\"PID\">\n",
      "    <UnitsOfMeasure Distance=\"Metre\" />\n",
      "  </PlantInformation>\n",
      "  <PlantStructureItem ID=\"PBS945900F29F424D32A292F07BB90792E2\" ComponentClass=\"PlantSectionIso10209-2012\" ComponentName=\"Github\" ComponentClassURI=\"http://sandbox.dexpi.org/rdl/PlantSectionIso10209-2012\">\n",
      "    <GenericAttributes Number=\"2\" Set=\"DexpiAttributes\">\n",
      "      <GenericAttribute Name=\"PlantSectionIdentificationCodeAssignmentClass\" Value=\"Github\" Format=\"string\" AttributeURI=\"http://sandbox.dexpi.org/rdl/PlantSectionIdentificationCodeAssignment\n"
     ]
    }
   ],
   "source": [
    "with open('/tmp/C01V01-HEX.EX03.xml', 'r') as file:\n",
    "    dexpi_xml_content = file.read(1000)\n",
    "    print(dexpi_xml_content)\n"
   ]
  },
  {
   "cell_type": "markdown",
   "metadata": {},
   "source": [
    "Angaben zur Anlage"
   ]
  },
  {
   "cell_type": "code",
   "execution_count": 30,
   "metadata": {},
   "outputs": [
    {
     "name": "stdout",
     "output_type": "stream",
     "text": [
      "{'Anlagenbezeichnung': 'C01V01-HEX.EX03'}\n"
     ]
    }
   ],
   "source": [
    "\n",
    "# Funktion zum Laden und Extrahieren von Daten aus der DEXPI-Datei.\n",
    "def lade_daten(dexpi_xml):\n",
    "    try:\n",
    "        # Lade das XML-Dokument und erhalte die Wurzel des Baums.\n",
    "        tree = ET.parse(dexpi_xml)\n",
    "        root = tree.getroot()\n",
    "\n",
    "        # Extrahiere die Anlagenbezeichnung aus dem XML-Baum.\n",
    "        anlagenbezeichnung = root.find('.//Drawing').get('Name')\n",
    "        # Weitere Werte können entsprechend extrahiert werden.\n",
    "\n",
    "        # Gib ein Dictionary mit den extrahierten Werten zurück.\n",
    "        return {\n",
    "            'Anlagenbezeichnung': anlagenbezeichnung,\n",
    "            # Weitere extrahierte Werte können hier hinzugefügt werden.\n",
    "        }\n",
    "\n",
    "    except Exception as e:\n",
    "        # Falls ein Fehler auftritt, gib eine Fehlermeldung aus und gibt None zurück.\n",
    "        print(f\"Fehler beim Laden und Extrahieren der Daten: {e}\")\n",
    "        return None\n",
    "\n",
    "# Beispielaufruf der Funktion und Ausgabe der extrahierten Daten.\n",
    "daten = lade_daten(dexpi_xml)\n",
    "print(daten)"
   ]
  },
  {
   "cell_type": "code",
   "execution_count": 31,
   "metadata": {},
   "outputs": [
    {
     "name": "stdout",
     "output_type": "stream",
     "text": [
      "{'Anlagenumfang': ['Kolbenpumpe', 'Rohrleitungssystem', 'Zentrifugalpumpe', 'Plattenwärmetauscher', 'Behälter', 'Rohrbündelwärmetauscher']}\n"
     ]
    }
   ],
   "source": [
    "# Funktion zum Laden und Extrahieren von Daten aus der DEXPI-Datei.\n",
    "def lade_daten(dexpi_xml):\n",
    "    try:\n",
    "        # Lade das XML-Dokument und erhalte die Wurzel des Baums.\n",
    "        tree = ET.parse(dexpi_xml)\n",
    "        root = tree.getroot()\n",
    "\n",
    "        # Extrahiere ComponentClass aus allen Equipment- und PipingNetworkSystem-Elementen.\n",
    "        equipment_elements = root.findall('.//Equipment')\n",
    "        piping_network_system_elements = root.findall('.//PipingNetworkSystem')\n",
    "\n",
    "        component_classes = set()\n",
    "\n",
    "        for equipment_element in equipment_elements:\n",
    "            component_class = equipment_element.get('ComponentClass')\n",
    "\n",
    "            # Überprüfe, ob die ComponentClass den erlaubten Werten entspricht.\n",
    "            erlaubte_component_classes = ['Tank', 'ReciprocatingPump', 'CentrifugalPump', 'PlateAndShellHeatExchanger', 'ShellAndTubeHeatExchanger']\n",
    "            if component_class in erlaubte_component_classes:\n",
    "                component_classes.add(component_class)\n",
    "\n",
    "        for piping_network_system_element in piping_network_system_elements:\n",
    "            component_class = piping_network_system_element.get('ComponentClass')\n",
    "\n",
    "            # Überprüfe, ob die ComponentClass den erlaubten Werten entspricht.\n",
    "            erlaubte_component_classes = ['PipingNetworkSystem']\n",
    "            if component_class in erlaubte_component_classes:\n",
    "                component_classes.add(component_class)\n",
    "\n",
    "        # Überprüfe, ob mindestens eine gültige ComponentClass gefunden wurde.\n",
    "        if not component_classes:\n",
    "            raise ValueError(\"Keine gültige ComponentClass gefunden.\")\n",
    "\n",
    "        # Weitere Werte können entsprechend extrahiert werden.\n",
    "\n",
    "        # Gib ein Dictionary mit den extrahierten Werten zurück.\n",
    "        return {\n",
    "            'Anlagenumfang': list(component_classes),\n",
    "            # Weitere extrahierte Werte können hier hinzugefügt werden.\n",
    "        }\n",
    "\n",
    "    except Exception as e:\n",
    "        # Falls ein Fehler auftritt, gib eine Fehlermeldung aus und gibt None zurück.\n",
    "        print(f\"Fehler beim Laden und Extrahieren der Daten: {e}\")\n",
    "        return None\n",
    "\n",
    "# Beispielaufruf der Funktion und Ausgabe der extrahierten Daten.\n",
    "daten = lade_daten(dexpi_xml)\n",
    "# print(daten)\n",
    "\n",
    "def uebersetze_begriffe_manuell(begriffe, zielsprache='de'):\n",
    "    manuelle_uebersetzungen = {\n",
    "        'ReciprocatingPump': 'Kolbenpumpe',\n",
    "        'PipingNetworkSystem': 'Rohrleitungssystem',\n",
    "        'CentrifugalPump': 'Zentrifugalpumpe',\n",
    "        'PlateAndShellHeatExchanger': 'Plattenwärmetauscher',\n",
    "        'Tank': 'Behälter',\n",
    "        'ShellAndTubeHeatExchanger': 'Rohrbündelwärmetauscher'\n",
    "    }\n",
    "\n",
    "    uebersetzte_begriffe = [manuelle_uebersetzungen.get(begriff, begriff) for begriff in begriffe]\n",
    "    return uebersetzte_begriffe\n",
    "\n",
    "# Beispielaufruf\n",
    "komponentenklassen = ['ReciprocatingPump', 'PipingNetworkSystem', 'CentrifugalPump', 'PlateAndShellHeatExchanger', 'Tank', 'ShellAndTubeHeatExchanger']\n",
    "uebersetzte_komponentenklassen = uebersetze_begriffe_manuell(komponentenklassen)\n",
    "\n",
    "# Ausgabe der übersetzten Begriffe\n",
    "print({'Anlagenumfang': uebersetzte_komponentenklassen})\n",
    "\n"
   ]
  },
  {
   "cell_type": "code",
   "execution_count": 32,
   "metadata": {},
   "outputs": [
    {
     "name": "stdout",
     "output_type": "stream",
     "text": [
      "Größter Tank: T4750\n",
      "Beschreibungen der Kammern: ['Processing Chamber', 'Jacket Chamber']\n",
      "Anlagenart: HBV-Anlage\n"
     ]
    }
   ],
   "source": [
    "def finde_groessten_tank(dexpi_xml):\n",
    "    try:\n",
    "        # Parsen der DEXPI-Datei\n",
    "        root = ET.fromstring(dexpi_xml)\n",
    "    except ET.ParseError as e:\n",
    "        # Fehlerausgabe, wenn das Parsen fehlschlägt\n",
    "        print(\"Fehler beim Parsen des XML-Dokuments:\", e)\n",
    "        return None, None\n",
    "    \n",
    "    # Initialisierung von Variablen für den größten Tank und dessen Kapazität\n",
    "    groesster_tank = None\n",
    "    max_capacity = 0\n",
    "    \n",
    "    # Iterieren über alle 'Equipment'-Elemente im XML-Dokument\n",
    "    for tank in root.iter('Equipment'):\n",
    "        if tank.attrib.get('ComponentClass') == 'Tank':\n",
    "            # Suche nach dem Attribut 'NominalCapacity(Volume)' im aktuellen Tank\n",
    "            capacity_attr = tank.find(\".//GenericAttribute[@Name='NominalCapacity(Volume)']\")\n",
    "            \n",
    "            # Überprüfen, ob das Attribut gefunden wurde und einen 'Value'-Schlüssel hat\n",
    "            if capacity_attr is not None and 'Value' in capacity_attr.attrib:\n",
    "                # Extrahieren der Kapazität und vergleichen mit der bisherigen maximalen Kapazität\n",
    "                capacity = float(capacity_attr.attrib['Value'])\n",
    "                if capacity > max_capacity:\n",
    "                    max_capacity = capacity\n",
    "                    groesster_tank = tank\n",
    "    \n",
    "    # Wenn ein größerer Tank gefunden wurde\n",
    "    if groesster_tank is not None:\n",
    "        # Extrahieren der Tag-Bezeichnung des größten Tanks\n",
    "        tank_tag = groesster_tank.attrib['TagName']\n",
    "        \n",
    "        # Extrahieren der Beschreibungen der Kammern im größten Tank\n",
    "        tank_beschreibungen = [chamber.find(\".//GenericAttribute[@Name='ChamberDescriptionAssignmentClass']\").attrib.get('Value', '') for chamber in groesster_tank.iter('Equipment') if chamber.attrib.get('ComponentClass') == 'Chamber']\n",
    "        \n",
    "        return groesster_tank, tank_tag, tank_beschreibungen\n",
    "    else:\n",
    "        # None, wenn kein größerer Tank gefunden wurde\n",
    "        return None, None\n",
    "\n",
    "# Aufruf mit XML-Dokument\n",
    "with open(dexpi_xml, 'r') as file:\n",
    "    dexpi_xml_content = file.read()\n",
    "\n",
    "groesster_tank, tank_tag, tank_beschreibungen = finde_groessten_tank(dexpi_xml_content)\n",
    "\n",
    "# Ausgabe der Ergebnisse\n",
    "print(\"Größter Tank:\", tank_tag)\n",
    "print(\"Beschreibungen der Kammern:\", tank_beschreibungen)\n",
    "\n",
    "def setze_anlagenart(tank_beschreibungen):\n",
    "    # Überprüfen, ob 'Processing Chamber' in den Beschreibungen vorkommt\n",
    "    if \"Processing Chamber\" in tank_beschreibungen:\n",
    "        return \"HBV-Anlage\"\n",
    "    # Überprüfen, ob 'Storage Chamber' in den Beschreibungen vorkommt\n",
    "    elif \"Storage Chamber\" in tank_beschreibungen:\n",
    "        return \"Tanklager\"\n",
    "    else:\n",
    "        # Fehlermeldung, wenn keine oder beide Beschreibungen vorhanden sind\n",
    "        print(\"Fehler: Ungültige Anlagenkonfiguration. Anlagenart manuell befüllen.\")\n",
    "        return None\n",
    "\n",
    "# Beispielaufruf\n",
    "anlagenart = setze_anlagenart(tank_beschreibungen)\n",
    "\n",
    "# Ausgabe der Ergebnisse\n",
    "print(\"Anlagenart:\", anlagenart)\n",
    "\n"
   ]
  },
  {
   "cell_type": "markdown",
   "metadata": {},
   "source": [
    "Angaben zu den wassergefährdenden Stoffen in der Anlage"
   ]
  },
  {
   "cell_type": "code",
   "execution_count": null,
   "metadata": {},
   "outputs": [],
   "source": []
  },
  {
   "cell_type": "markdown",
   "metadata": {},
   "source": [
    "Angaben zu Behältern"
   ]
  },
  {
   "cell_type": "code",
   "execution_count": 33,
   "metadata": {},
   "outputs": [
    {
     "name": "stdout",
     "output_type": "stream",
     "text": [
      "TagName: T4750, NominalCapacity: 22.0\n",
      "  Chamber Function: Processing, MaterialOfConstructionCode: 1.4306\n"
     ]
    }
   ],
   "source": [
    "import xml.etree.ElementTree as ET\n",
    "\n",
    "# Initialisierung der Variable außerhalb der Funktion\n",
    "material_of_construction = None\n",
    "\n",
    "def tank_suche(dexpi_xml_path):\n",
    "    # Einlesen des Inhalts der DEXPI-XML-Datei\n",
    "    with open(dexpi_xml_path, 'r') as file:\n",
    "        dexpi_xml_content = file.read()\n",
    "\n",
    "    # Parsen der dexpi_xml und Erstellen des Wurzelelements\n",
    "    root = ET.fromstring(dexpi_xml_content)\n",
    "    tanks = []\n",
    "\n",
    "    # Durchlaufen aller Equipment-Elemente mit ComponentClass='Tank'\n",
    "    for equipment in root.findall(\".//Equipment[@ComponentClass='Tank']\"):\n",
    "        # Extrahieren des Tag-Namens des Tanks\n",
    "        tag_name = equipment.get('TagName', '')\n",
    "\n",
    "        # Aussortieren von Tanks ohne Tag-Namen, die mit 'T' beginnen\n",
    "        if not tag_name.startswith('T'):\n",
    "            continue\n",
    "\n",
    "        # Extrahieren des NominalCapacity-Elements\n",
    "        nominal_capacity_element = equipment.find(\".//GenericAttribute[@Name='NominalCapacity(Volume)']\")\n",
    "        \n",
    "        # Überprüfen, ob NominalCapacity-Element vorhanden ist\n",
    "        if nominal_capacity_element is not None:\n",
    "            # Extrahieren des Wertes von NominalCapacity\n",
    "            nominal_capacity_str = nominal_capacity_element.get('Value', '')\n",
    "\n",
    "            # Überprüfen, ob NominalCapacity eine Zahl ist\n",
    "            try:\n",
    "                nominal_capacity = float(nominal_capacity_str)\n",
    "            except ValueError:\n",
    "                # Fehlermeldung ausgeben und zum nächsten Tank gehen\n",
    "                print(f\"Fehler: NominalCapacity für Tank mit TagName '{tag_name}' ist keine Zahl.\")\n",
    "                continue\n",
    "        else:\n",
    "            # Fehlermeldung ausgeben und zum nächsten Tank gehen\n",
    "            print(f\"Fehler: Kein NominalCapacity-Attribut für Tank mit TagName '{tag_name}'.\")\n",
    "            continue\n",
    "\n",
    "        # Extrahieren der Kammern des Tanks\n",
    "        chambers = []\n",
    "        for chamber in equipment.findall(\".//Equipment[@ComponentClass='Chamber']\"):\n",
    "            chamber_function = chamber.find(\".//GenericAttribute[@Name='ChamberFunctionAssignmentClass']\").get('Value', '')\n",
    "            \n",
    "            # Nur Kammern mit 'Process Chamber' oder 'Storage Chamber' berücksichtigen\n",
    "            if chamber_function in ['Processing', 'Storage']:\n",
    "                material_of_construction = chamber.find(\".//GenericAttribute[@Name='MaterialOfConstructionCodeAssignmentClass']\").get('Value', '')\n",
    "                chambers.append({\n",
    "                    'Function': chamber_function,\n",
    "                    'MaterialOfConstructionCode': material_of_construction\n",
    "                })\n",
    "\n",
    "        # Zusammenstellen der Tankdaten und Hinzufügen zur Liste\n",
    "        tank_data = {\n",
    "            'TagName': tag_name,\n",
    "            'NominalCapacity': nominal_capacity,\n",
    "            'Chambers': chambers\n",
    "        }\n",
    "        tanks.append(tank_data)\n",
    "\n",
    "    # Rückgabe der Liste von Tanks\n",
    "    return tanks\n",
    "\n",
    "# Aufrufen der Funktion mit der DEXPI-XML-Datei und Ausgabe der Ergebnisse\n",
    "tanks = tank_suche(dexpi_xml)\n",
    "\n",
    "for tank in tanks:\n",
    "    print(f'TagName: {tank[\"TagName\"]}, NominalCapacity: {tank[\"NominalCapacity\"]}')\n",
    "    \n",
    "    for chamber in tank['Chambers']:\n",
    "        print(f'  Chamber Function: {chamber[\"Function\"]}, MaterialOfConstructionCode: {chamber[\"MaterialOfConstructionCode\"]}')\n",
    "\n",
    "\n",
    "\n"
   ]
  },
  {
   "cell_type": "markdown",
   "metadata": {},
   "source": [
    "Quelle: https://python.langchain.com/docs/use_cases/chatbots/quickstart"
   ]
  },
  {
   "cell_type": "code",
   "execution_count": null,
   "metadata": {},
   "outputs": [],
   "source": [
    "# Importieren der benötigten Module\n",
    "import os\n",
    "\n",
    "# Extrahieren des OpenAI-API-Schlüssels aus den Umgebungsvariablen oder direkt eingetragen\n",
    "openai_api_key = os.getenv(\"OPENAI_API_KEY\", \"\")\n",
    "\n",
    "# Jetzt ist der OpenAI-API-Schlüssel verfügbar und kann im Code verwendet werden\n",
    "#print(f\"OpenAI API Key: {openai_api_key}\")\n",
    "\n",
    "# Importieren der benötigten Module\n",
    "from langchain_openai import ChatOpenAI\n",
    "\n",
    "# Initialisieren des ChatOpenAI-Objekts\n",
    "chat = ChatOpenAI(model=\"gpt-3.5-turbo-1106\", temperature=0.2, openai_api_key=openai_api_key)\n"
   ]
  },
  {
   "cell_type": "code",
   "execution_count": 57,
   "metadata": {},
   "outputs": [
    {
     "name": "stdout",
     "output_type": "stream",
     "text": [
      "Behälternummer: T4750, Nennvolumen (m3): 22.0, Material: 1.4306\n"
     ]
    },
    {
     "data": {
      "text/plain": [
       "AIMessage(content='Metall')"
      ]
     },
     "execution_count": 57,
     "metadata": {},
     "output_type": "execute_result"
    }
   ],
   "source": [
    "for tank in tanks:\n",
    "    for chamber in tank['Chambers']:\n",
    "        print(f'Behälternummer: {tank[\"TagName\"]}, Nennvolumen (m3): {tank[\"NominalCapacity\"]}, Material: {chamber[\"MaterialOfConstructionCode\"]}')\n",
    "\n",
    "\n",
    "from langchain_core.messages import HumanMessage\n",
    "\n",
    "chat.invoke(\n",
    "    [\n",
    "        HumanMessage(\n",
    "            content='Setze die Sprache auf Deutsch. Du bist ein Assistent im Bereich der Verfahrenstechnik. Du hast eine Aufgabe. Ich gebe dir eine Werkstoffbezeichnung. Diese Werkstoffbezeichnung kann unterschiedlich konkret sein. Deine Aufgabe besteht darin zuzuordnen, ob es sich um ein Kunststoff, ein Metall oder einen anderen Werkstoff handelt. Versuche also den gegebenen Werkstoff in eine der drei Kategorien: \"Metall\", \"Kunststoff\", \"anderes Material\" einzustufen. Gib mir als Ausgabe nur einen der drei Begriffe aus, ohne weitere Erklärung. Falls der gesuchte Werkstoff überhaupt nicht zuzuordnen ist, gib Error aus. Der gesuchte Werkstoff ist: 1.4306'\n",
    "        )\n",
    "    ]\n",
    ")\n",
    "\n"
   ]
  },
  {
   "cell_type": "markdown",
   "metadata": {},
   "source": [
    "Angaben zu den Rohrleitungen"
   ]
  },
  {
   "cell_type": "code",
   "execution_count": null,
   "metadata": {},
   "outputs": [],
   "source": []
  },
  {
   "cell_type": "markdown",
   "metadata": {},
   "source": [
    "Back-Up"
   ]
  },
  {
   "cell_type": "code",
   "execution_count": null,
   "metadata": {},
   "outputs": [
    {
     "name": "stdout",
     "output_type": "stream",
     "text": [
      "{'anlagenbezeichnung': 'C01V01-HEX.EX03', 'component_classes': ['Tank', 'ReciprocatingPump', 'CentrifugalPump', 'ShellAndTubeHeatExchanger', 'PlateAndShellHeatExchanger', 'Tank', 'ReciprocatingPump', 'CentrifugalPump', 'ShellAndTubeHeatExchanger', 'PlateAndShellHeatExchanger', 'PipingNetworkSystem', 'PipingNetworkSystem', 'PipingNetworkSystem', 'PipingNetworkSystem', 'PipingNetworkSystem', 'PipingNetworkSystem', 'PipingNetworkSystem', 'PipingNetworkSystem', 'PipingNetworkSystem', 'PipingNetworkSystem', 'PipingNetworkSystem', 'PipingNetworkSystem', 'PipingNetworkSystem', 'PipingNetworkSystem'], 'Anlagenumfang': {'ShellAndTubeHeatExchanger': {}, 'PipingNetworkSystem': {}, 'CentrifugalPump': {}, 'ReciprocatingPump': {}, 'Tank': {}, 'PlateAndShellHeatExchanger': {}}}\n"
     ]
    }
   ],
   "source": [
    "# Später für Aufzählung\n",
    "# Funktion zum Laden und Extrahieren von Daten aus der DEXPI-Datei.\n",
    "def lade_daten(dexpi_xml):\n",
    "    try:\n",
    "        # Lade das XML-Dokument und erhalte die Wurzel des Baums.\n",
    "        tree = ET.parse(dexpi_xml)\n",
    "        root = tree.getroot()\n",
    "\n",
    "        # Extrahiere die Anlagenbezeichnung aus dem XML-Baum.\n",
    "        anlagenbezeichnung = root.find('.//Drawing').get('Name')\n",
    "\n",
    "        # Extrahiere ComponentClass aus allen Equipment- und PipingNetworkSystem-Elementen.\n",
    "        equipment_elements = root.findall('.//Equipment')\n",
    "        piping_network_system_elements = root.findall('.//PipingNetworkSystem')\n",
    "\n",
    "        component_classes = []\n",
    "\n",
    "        for equipment_element in equipment_elements:\n",
    "            component_class = equipment_element.get('ComponentClass')\n",
    "\n",
    "            # Überprüfe, ob die ComponentClass den erlaubten Werten entspricht.\n",
    "            erlaubte_component_classes = ['Tank', 'ReciprocatingPump', 'CentrifugalPump', 'PlateAndShellHeatExchanger', 'ShellAndTubeHeatExchanger']\n",
    "            if component_class in erlaubte_component_classes:\n",
    "                component_classes.append(component_class)\n",
    "\n",
    "        for piping_network_system_element in piping_network_system_elements:\n",
    "            component_class = piping_network_system_element.get('ComponentClass')\n",
    "\n",
    "            # Überprüfe, ob die ComponentClass den erlaubten Werten entspricht.\n",
    "            erlaubte_component_classes = ['PipingNetworkSystem']\n",
    "            if component_class in erlaubte_component_classes:\n",
    "                component_classes.append(component_class)\n",
    "\n",
    "        # Überprüfe, ob mindestens eine gültige ComponentClass gefunden wurde.\n",
    "        if not component_classes:\n",
    "            raise ValueError(\"Keine gültige ComponentClass gefunden.\")\n",
    "\n",
    "        # Weitere Werte können entsprechend extrahiert werden.\n",
    "\n",
    "        # Entferne Duplikate und erstelle ein eindeutiges Set von Komponentenklassen.\n",
    "        unique_component_classes = set(component_classes)\n",
    "\n",
    "        # Erstelle ein Dictionary mit dem Namen Anlagenumfang, in dem jede ComponentClass nur einmal vorkommt.\n",
    "        Anlagenumfang = {klass: {} for klass in unique_component_classes}\n",
    "\n",
    "        # Gib ein Dictionary mit den extrahierten Werten zurück.\n",
    "        return {\n",
    "            'anlagenbezeichnung': anlagenbezeichnung,\n",
    "            'component_classes': component_classes,\n",
    "            'Anlagenumfang': Anlagenumfang,\n",
    "            # Weitere extrahierte Werte können hier hinzugefügt werden.\n",
    "        }\n",
    "\n",
    "    except Exception as e:\n",
    "        # Falls ein Fehler auftritt, gib eine Fehlermeldung aus und gibt None zurück.\n",
    "        print(f\"Fehler beim Laden und Extrahieren der Daten: {e}\")\n",
    "        return None\n",
    "\n",
    "# Beispielaufruf der Funktion und Ausgabe der extrahierten Daten.\n",
    "daten = lade_daten(dexpi_xml)\n",
    "print(daten)\n"
   ]
  },
  {
   "cell_type": "code",
   "execution_count": null,
   "metadata": {},
   "outputs": [
    {
     "name": "stdout",
     "output_type": "stream",
     "text": [
      "Anlagenbezeichnung zur Kontrolle: C01V01-HEX.EX03\n",
      "Fehler beim Befüllen und Speichern des Formblatts: mismatched tag: line 244, column 2\n"
     ]
    }
   ],
   "source": [
    "import requests\n",
    "import xml.etree.ElementTree as ET\n",
    "\n",
    "# GitHub Raw-URL für die DEXPI-R&I Datei\n",
    "github_url_dexpi = 'https://raw.githubusercontent.com/FloT10/MillerFlorinBA/main/C01V01-HEX.EX03.xml'\n",
    "# GitHub Raw-URL für die Formblatt-Vorlage\n",
    "github_url_formblatt = 'https://raw.githubusercontent.com/FloT10/MillerFlorinBA/main/formblatt_6.2.xml'\n",
    "\n",
    "# Dateien lokal speichern\n",
    "def lade_und_speichere(url, lokal_path):\n",
    "    response = requests.get(url)\n",
    "    with open(lokal_path, 'w') as file:\n",
    "        file.write(response.text)\n",
    "\n",
    "# Laden und Speichern der DEXPI-R&I Datei\n",
    "dexpi_xml = '/tmp/C01V01-HEX.EX03.xml'\n",
    "lade_und_speichere(github_url_dexpi, dexpi_xml)\n",
    "\n",
    "# Laden und Speichern der Formblatt-Vorlage\n",
    "formblatt_vorlage = '/tmp/formblatt_6.2.xml'\n",
    "lade_und_speichere(github_url_formblatt, formblatt_vorlage)\n",
    "\n",
    "# Funktion zum Laden und Extrahieren der Werte aus dem DEXPI-R&I\n",
    "def lade_daten(dexpi_xml):\n",
    "    try:\n",
    "        # Laden des DEXPI-R&I Dokuments\n",
    "        tree = ET.parse(dexpi_xml)\n",
    "        root = tree.getroot()\n",
    "\n",
    "        # Extrahieren der Werte, wie benötigt\n",
    "        anlagenbezeichnung = root.find('.//Drawing').get('Name')\n",
    "        # Weitere Werte entsprechend extrahieren\n",
    "\n",
    "        # Kontrollausgabe der Anlagenbezeichnung\n",
    "        print(f\"Anlagenbezeichnung zur Kontrolle: {anlagenbezeichnung}\")\n",
    "\n",
    "        return {\n",
    "            'anlagenbezeichnung': anlagenbezeichnung,\n",
    "            # Weitere extrahierte Werte hinzufügen\n",
    "        }\n",
    "\n",
    "    except Exception as e:\n",
    "        print(f\"Fehler beim Laden und Extrahieren der Daten aus DEXPI-R&I: {e}\")\n",
    "        return None\n",
    "\n",
    "# Funktion zum Befüllen der Formblatt-Vorlage mit den extrahierten DEXPI-R&I Daten\n",
    "def befuellen_und_speichern(formblatt_vorlage, formblatt_befüllt, daten):\n",
    "    try:\n",
    "        tree = ET.parse(formblatt_vorlage)\n",
    "        root = tree.getroot()\n",
    "\n",
    "        # Befülle die Vorlage mit den extrahierten Daten\n",
    "        root.find('.//anlagenbezeichnung').text = daten['anlagenbezeichnung']\n",
    "        # Weitere Werte in der Vorlage entsprechend befüllen\n",
    "\n",
    "        # Speichere die befüllte Vorlage als neue Datei\n",
    "        tree.write(formblatt_befüllt)\n",
    "\n",
    "        print(f\"Das Formblatt wurde erfolgreich mit den Daten befüllt und unter {formblatt_befüllt} gespeichert.\")\n",
    "\n",
    "    except Exception as e:\n",
    "        print(f\"Fehler beim Befüllen und Speichern des Formblatts: {e}\")\n",
    "\n",
    "# Lade Daten aus der DEXPI-R&I Datei\n",
    "daten_dexpi = lade_daten(dexpi_xml)\n",
    "\n",
    "# Lade die Formblatt-Vorlage\n",
    "formblatt_befüllt= '/tmp/Ziel/Formblatt_befüllt.xml'\n",
    "\n",
    "# Befülle die Formblatt-Vorlage und speichere das Ergebnis\n",
    "befuellen_und_speichern(formblatt_vorlage, formblatt_befüllt, daten_dexpi)\n"
   ]
  }
 ],
 "metadata": {
  "kernelspec": {
   "display_name": "schemaextraction",
   "language": "python",
   "name": "python3"
  },
  "language_info": {
   "codemirror_mode": {
    "name": "ipython",
    "version": 3
   },
   "file_extension": ".py",
   "mimetype": "text/x-python",
   "name": "python",
   "nbconvert_exporter": "python",
   "pygments_lexer": "ipython3",
   "version": "3.12.0"
  }
 },
 "nbformat": 4,
 "nbformat_minor": 2
}

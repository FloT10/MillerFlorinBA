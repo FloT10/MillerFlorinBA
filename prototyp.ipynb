{
 "cells": [
  {
   "cell_type": "markdown",
   "metadata": {},
   "source": [
    "Umgebung einrichten.\n"
   ]
  },
  {
   "cell_type": "markdown",
   "metadata": {},
   "source": [
    "Verfügbarmachen des DEXPI-R&Is von GitHub"
   ]
  },
  {
   "cell_type": "code",
   "execution_count": 1,
   "metadata": {},
   "outputs": [
    {
     "name": "stdout",
     "output_type": "stream",
     "text": [
      "<?xml version=\"1.0\" encoding=\"utf-8\"?>\n",
      "<PlantModel xmlns:xsi=\"http://www.w3.org/2001/XMLSchema-instance\" xsi:noNamespaceSchemaLocation=\"../ProteusPIDSchema_4.0.1.xsd\">\n",
      "  <!--Created with INGR ISO15926 PostProc V0.0.7.1 and ConfigurationFileVersion 1.1 by PPM-VM-2014-R1\\Intergraph on PPM-VM-2014-R1 at 4/12/2018 5:14:33 PM-->\n",
      "  <PlantInformation SchemaVersion=\"4.0.1\" OriginatingSystem=\"SPPID\" Date=\"2018-04-12\" Time=\"15:13:38.0000000+02:00\" Is3D=\"no\" Units=\"Metre\" Discipline=\"PID\">\n",
      "    <UnitsOfMeasure Distance=\"Metre\" />\n",
      "  </PlantInformation>\n",
      "  <PlantStructureItem ID=\"PBS945900F29F424D32A292F07BB90792E2\" ComponentClass=\"PlantSectionIso10209-2012\" ComponentName=\"Github\" ComponentClassURI=\"http://sandbox.dexpi.org/rdl/PlantSectionIso10209-2012\">\n",
      "    <GenericAttributes Number=\"2\" Set=\"DexpiAttributes\">\n",
      "      <GenericAttribute Name=\"PlantSectionIdentificationCodeAssignmentClass\" Value=\"Github\" Format=\"string\" AttributeURI=\"http://sandbox.dexpi.org/rdl/PlantSectionIdentificationCodeAssignment\n"
     ]
    }
   ],
   "source": [
    "import requests\n",
    "\n",
    "# GitHub Raw-URL für die Datei\n",
    "github_url_dexpi = 'https://raw.githubusercontent.com/FloT10/MillerFlorinBA/main/C01V01-HEX.EX03.xml'\n",
    "\n",
    "# Datei herunterladen\n",
    "response = requests.get(github_url_dexpi)\n",
    "\n",
    "# Datei lokal speichern (im Textmodus 'w')\n",
    "with open('/tmp/C01V01-HEX.EX03.xml', 'w') as file:\n",
    "    file.write(response.text)\n",
    "\n",
    "dexpi_xml_path = \"/tmp/C01V01-HEX.EX03.xml\"\n",
    "\n",
    "# Ausgabe der ersten 1000 Zeichen der Datei\n",
    "with open(dexpi_xml_path, 'r') as file:\n",
    "    first_1000_chars = file.read(1000)\n",
    "    print(first_1000_chars)\n",
    "\n"
   ]
  },
  {
   "cell_type": "markdown",
   "metadata": {},
   "source": [
    "Funktion zum Laden und Extrahieren der Werte aus dem anderen DEXPI-R&I (C01V01)"
   ]
  },
  {
   "cell_type": "code",
   "execution_count": 2,
   "metadata": {},
   "outputs": [
    {
     "name": "stdout",
     "output_type": "stream",
     "text": [
      "C01V01-HEX.EX03\n"
     ]
    }
   ],
   "source": [
    "import xml.etree.ElementTree as ET\n",
    "\n",
    "def lade_daten(dexpi_xml_path):\n",
    "    # Laden des Dokuments\n",
    "    tree = ET.parse(dexpi_xml_path)\n",
    "    root = tree.getroot()\n",
    "\n",
    "    # Extrahieren der Werte, wie benötigt\n",
    "    anlagenbezeichnung = root.find('.//Drawing').get('Name')\n",
    "    # Weitere Werte entsprechend extrahieren\n",
    "\n",
    "    return anlagenbezeichnung\n",
    "\n",
    "# Beispielaufruf der Funktion\n",
    "daten = lade_daten(dexpi_xml_path)\n",
    "print(daten)\n",
    "\n",
    "\n"
   ]
  }
 ],
 "metadata": {
  "kernelspec": {
   "display_name": "schemaextraction",
   "language": "python",
   "name": "python3"
  },
  "language_info": {
   "codemirror_mode": {
    "name": "ipython",
    "version": 3
   },
   "file_extension": ".py",
   "mimetype": "text/x-python",
   "name": "python",
   "nbconvert_exporter": "python",
   "pygments_lexer": "ipython3",
   "version": "3.12.0"
  }
 },
 "nbformat": 4,
 "nbformat_minor": 2
}

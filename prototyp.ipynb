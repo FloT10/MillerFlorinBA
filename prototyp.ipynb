{
 "cells": [
  {
   "cell_type": "markdown",
   "metadata": {},
   "source": [
    "Umgebung einrichten.\n",
    "Hierzu ein How-to"
   ]
  },
  {
   "cell_type": "code",
   "execution_count": 30,
   "metadata": {},
   "outputs": [],
   "source": [
    "#%pip install requests\n",
    "#%pip install xml.etree.ElementTree\n",
    "#%pip install --upgrade --quiet langchain langchain-openai\n",
    "#%pip install python-dotenv\n",
    "#%pip install translate"
   ]
  },
  {
   "cell_type": "markdown",
   "metadata": {},
   "source": [
    "Verfügbarmachen des DEXPI-R&Is von GitHub"
   ]
  },
  {
   "cell_type": "code",
   "execution_count": 31,
   "metadata": {},
   "outputs": [],
   "source": [
    "# Importieren des 'requests'-Moduls, um Daten von einer URL herunterzuladen, und das 'xml.etree.ElementTree'-Modul, um XML-Daten zu verarbeiten.\n",
    "import requests\n",
    "import xml.etree.ElementTree as ET\n",
    "\n",
    "# GitHub Raw-URLs für die DEXPI-Dateie und die Formblatt-Vorlage.\n",
    "github_url_dexpi = 'https://raw.githubusercontent.com/FloT10/MillerFlorinBA/main/C01V01-HEX.EX03.xml'\n",
    "github_url_formblatt = 'https://raw.githubusercontent.com/FloT10/MillerFlorinBA/main/formblatt_6.2.xml'\n",
    "\n",
    "# Herunterladen der DEXPI-Datei von der GitHub-URL.\n",
    "response = requests.get(github_url_dexpi)\n",
    "\n",
    "# Speichern der heruntergeladenen DEXPI-Datei lokal im Textmodus ('w').\n",
    "with open('/tmp/C01V01-HEX.EX03.xml', 'w') as file:\n",
    "    file.write(response.text)\n",
    "\n",
    "# Definieren eines Dateipfades zur lokal gespeicherten DEXPI-Datei zur weiteren Verwendung.\n",
    "dexpi_xml = \"/tmp/C01V01-HEX.EX03.xml\""
   ]
  },
  {
   "cell_type": "markdown",
   "metadata": {},
   "source": [
    "Prüfen der DEXPI-Datei"
   ]
  },
  {
   "cell_type": "code",
   "execution_count": 32,
   "metadata": {},
   "outputs": [
    {
     "name": "stdout",
     "output_type": "stream",
     "text": [
      "<?xml version=\"1.0\" encoding=\"utf-8\"?>\n",
      "<PlantModel xmlns:xsi=\"http://www.w3.org/2001/XMLSchema-instance\" xsi:noNamespaceSchemaLocation=\"../ProteusPIDSchema_4.0.1.xsd\">\n",
      "  <!--Created with INGR ISO15926 PostProc V0.0.7.1 and ConfigurationFileVersion 1.1 by PPM-VM-2014-R1\\Intergraph on PPM-VM-2014-R1 at 4/12/2018 5:14:33 PM-->\n",
      "  <PlantInformation SchemaVersion=\"4.0.1\" OriginatingSystem=\"SPPID\" Date=\"2018-04-12\" Time=\"15:13:38.0000000+02:00\" Is3D=\"no\" Units=\"Metre\" Discipline=\"PID\">\n",
      "    <UnitsOfMeasure Distance=\"Metre\" />\n",
      "  </PlantInformation>\n",
      "  <PlantStructureItem ID=\"PBS945900F29F424D32A292F07BB90792E2\" ComponentClass=\"PlantSectionIso10209-2012\" ComponentName=\"Github\" ComponentClassURI=\"http://sandbox.dexpi.org/rdl/PlantSectionIso10209-2012\">\n",
      "    <GenericAttributes Number=\"2\" Set=\"DexpiAttributes\">\n",
      "      <GenericAttribute Name=\"PlantSectionIdentificationCodeAssignmentClass\" Value=\"Github\" Format=\"string\" AttributeURI=\"http://sandbox.dexpi.org/rdl/PlantSectionIdentificationCodeAssignment\n"
     ]
    }
   ],
   "source": [
    "with open('/tmp/C01V01-HEX.EX03.xml', 'r') as file:\n",
    "    dexpi_xml_content = file.read(1000)\n",
    "    print(dexpi_xml_content)\n"
   ]
  },
  {
   "cell_type": "markdown",
   "metadata": {},
   "source": [
    "Angaben zur Anlage"
   ]
  },
  {
   "cell_type": "code",
   "execution_count": 40,
   "metadata": {},
   "outputs": [
    {
     "name": "stdout",
     "output_type": "stream",
     "text": [
      "C01V01-HEX.EX03\n"
     ]
    }
   ],
   "source": [
    "# Globale Variable für Anlagenbezeichnung\n",
    "anlagenbezeichnung = None\n",
    "\n",
    "# Funktion zum Laden und Extrahieren von Daten aus der DEXPI-Datei.\n",
    "def lade_daten(dexpi_xml):\n",
    "    global anlagenbezeichnung\n",
    "    try:\n",
    "        # Laden des XML-Dokuments.\n",
    "        tree = ET.parse(dexpi_xml)\n",
    "        root = tree.getroot()\n",
    "\n",
    "        # Extrahiere die Anlagenbezeichnung aus dem XML-Baum.\n",
    "        drawing_element = root.find('.//Drawing')\n",
    "        if drawing_element is not None:\n",
    "            anlagenbezeichnung = drawing_element.get('Name')\n",
    "            # Weitere Werte können entsprechend extrahiert werden.\n",
    "\n",
    "            # Hier auch weitere globale Variablen aktualisieren, wenn nötig.\n",
    "\n",
    "        else:\n",
    "            print(\"Das 'Drawing'-Element wurde nicht gefunden.\")\n",
    "\n",
    "    except Exception as e:\n",
    "        # Falls ein Fehler auftritt, gib eine Fehlermeldung aus.\n",
    "        print(f\"Fehler beim Laden und Extrahieren der Daten: {e}\")\n",
    "\n",
    "# Beispielaufruf der Funktion\n",
    "lade_daten(dexpi_xml)\n",
    "\n",
    "# Verwende die globale Variable an anderer Stelle im Skript, wenn nötig.\n",
    "print(anlagenbezeichnung)\n"
   ]
  },
  {
   "cell_type": "code",
   "execution_count": 34,
   "metadata": {},
   "outputs": [
    {
     "name": "stdout",
     "output_type": "stream",
     "text": [
      "['Kolbenpumpe', 'Rohrleitungssystem', 'Zentrifugalpumpe', 'Plattenwärmetauscher', 'Behälter', 'Rohrbündelwärmetauscher']\n"
     ]
    }
   ],
   "source": [
    "# Funktion zum Laden und Extrahieren von Daten aus der DEXPI-Datei.\n",
    "def lade_daten(dexpi_xml):\n",
    "    try:\n",
    "        # Lade das XML-Dokument und erhalte die Wurzel des Baums.\n",
    "        tree = ET.parse(dexpi_xml)\n",
    "        root = tree.getroot()\n",
    "\n",
    "        # Extrahiere ComponentClass aus allen Equipment- und PipingNetworkSystem-Elementen.\n",
    "        equipment_elements = root.findall('.//Equipment')\n",
    "        piping_network_system_elements = root.findall('.//PipingNetworkSystem')\n",
    "\n",
    "        component_classes = set()\n",
    "\n",
    "        for equipment_element in equipment_elements:\n",
    "            component_class = equipment_element.get('ComponentClass')\n",
    "\n",
    "            # Überprüfe, ob die ComponentClass den erlaubten Werten entspricht.\n",
    "            erlaubte_component_classes = ['Tank', 'ReciprocatingPump', 'CentrifugalPump', 'PlateAndShellHeatExchanger', 'ShellAndTubeHeatExchanger']\n",
    "            if component_class in erlaubte_component_classes:\n",
    "                component_classes.add(component_class)\n",
    "\n",
    "        for piping_network_system_element in piping_network_system_elements:\n",
    "            component_class = piping_network_system_element.get('ComponentClass')\n",
    "\n",
    "            # Überprüfe, ob die ComponentClass den erlaubten Werten entspricht.\n",
    "            erlaubte_component_classes = ['PipingNetworkSystem']\n",
    "            if component_class in erlaubte_component_classes:\n",
    "                component_classes.add(component_class)\n",
    "\n",
    "        # Überprüfe, ob mindestens eine gültige ComponentClass gefunden wurde.\n",
    "        if not component_classes:\n",
    "            raise ValueError(\"Keine gültige ComponentClass gefunden.\")\n",
    "\n",
    "        # Weitere Werte können entsprechend extrahiert werden.\n",
    "\n",
    "        # Gib ein Dictionary mit den extrahierten Werten zurück.\n",
    "        return {\n",
    "            'Anlagenumfang': list(component_classes),\n",
    "            # Weitere extrahierte Werte können hier hinzugefügt werden.\n",
    "        }\n",
    "\n",
    "    except Exception as e:\n",
    "        # Falls ein Fehler auftritt, gib eine Fehlermeldung aus und gibt None zurück.\n",
    "        print(f\"Fehler beim Laden und Extrahieren der Daten: {e}\")\n",
    "        return None\n",
    "\n",
    "# Beispielaufruf der Funktion und Ausgabe der extrahierten Daten.\n",
    "daten = lade_daten(dexpi_xml)\n",
    "# print(daten)\n",
    "\n",
    "def uebersetze_begriffe_manuell(begriffe, zielsprache='de'):\n",
    "    manuelle_uebersetzungen = {\n",
    "        'ReciprocatingPump': 'Kolbenpumpe',\n",
    "        'PipingNetworkSystem': 'Rohrleitungssystem',\n",
    "        'CentrifugalPump': 'Zentrifugalpumpe',\n",
    "        'PlateAndShellHeatExchanger': 'Plattenwärmetauscher',\n",
    "        'Tank': 'Behälter',\n",
    "        'ShellAndTubeHeatExchanger': 'Rohrbündelwärmetauscher'\n",
    "    }\n",
    "\n",
    "    uebersetzte_begriffe = [manuelle_uebersetzungen.get(begriff, begriff) for begriff in begriffe]\n",
    "    return uebersetzte_begriffe\n",
    "\n",
    "# Beispielaufruf\n",
    "komponentenklassen = ['ReciprocatingPump', 'PipingNetworkSystem', 'CentrifugalPump', 'PlateAndShellHeatExchanger', 'Tank', 'ShellAndTubeHeatExchanger']\n",
    "anlagenumfang = uebersetze_begriffe_manuell(komponentenklassen)\n",
    "\n",
    "# Ausgabe der übersetzten Begriffe\n",
    "print(anlagenumfang)\n",
    "\n"
   ]
  },
  {
   "cell_type": "code",
   "execution_count": 35,
   "metadata": {},
   "outputs": [
    {
     "name": "stdout",
     "output_type": "stream",
     "text": [
      "HBV-Anlage\n"
     ]
    }
   ],
   "source": [
    "def finde_groessten_tank(dexpi_xml):\n",
    "    try:\n",
    "        # Parsen der DEXPI-Datei\n",
    "        root = ET.fromstring(dexpi_xml)\n",
    "    except ET.ParseError as e:\n",
    "        # Fehlerausgabe, wenn das Parsen fehlschlägt\n",
    "        print(\"Fehler beim Parsen des XML-Dokuments:\", e)\n",
    "        return None, None\n",
    "    \n",
    "    # Initialisierung von Variablen für den größten Tank und dessen Kapazität\n",
    "    groesster_tank = None\n",
    "    max_capacity = 0\n",
    "    \n",
    "    # Iterieren über alle 'Equipment'-Elemente im XML-Dokument\n",
    "    for tank in root.iter('Equipment'):\n",
    "        if tank.attrib.get('ComponentClass') == 'Tank':\n",
    "            # Suche nach dem Attribut 'NominalCapacity(Volume)' im aktuellen Tank\n",
    "            capacity_attr = tank.find(\".//GenericAttribute[@Name='NominalCapacity(Volume)']\")\n",
    "            \n",
    "            # Überprüfen, ob das Attribut gefunden wurde und einen 'Value'-Schlüssel hat\n",
    "            if capacity_attr is not None and 'Value' in capacity_attr.attrib:\n",
    "                # Extrahieren der Kapazität und vergleichen mit der bisherigen maximalen Kapazität\n",
    "                capacity = float(capacity_attr.attrib['Value'])\n",
    "                if capacity > max_capacity:\n",
    "                    max_capacity = capacity\n",
    "                    groesster_tank = tank\n",
    "    \n",
    "    # Wenn ein größerer Tank gefunden wurde\n",
    "    if groesster_tank is not None:\n",
    "        # Extrahieren der Tag-Bezeichnung des größten Tanks\n",
    "        tank_tag = groesster_tank.attrib['TagName']\n",
    "        \n",
    "        # Extrahieren der Beschreibungen der Kammern im größten Tank\n",
    "        tank_beschreibungen = [chamber.find(\".//GenericAttribute[@Name='ChamberDescriptionAssignmentClass']\").attrib.get('Value', '') for chamber in groesster_tank.iter('Equipment') if chamber.attrib.get('ComponentClass') == 'Chamber']\n",
    "        \n",
    "        return groesster_tank, tank_tag, tank_beschreibungen\n",
    "    else:\n",
    "        # None, wenn kein größerer Tank gefunden wurde\n",
    "        return None, None\n",
    "\n",
    "# Aufruf mit XML-Dokument\n",
    "with open(dexpi_xml, 'r') as file:\n",
    "    dexpi_xml_content = file.read()\n",
    "\n",
    "groesster_tank, tank_tag, tank_beschreibungen = finde_groessten_tank(dexpi_xml_content)\n",
    "\n",
    "# Ausgabe der Ergebnisse\n",
    "#print(\"Größter Tank:\", tank_tag)\n",
    "#print(\"Beschreibungen der Kammern:\", tank_beschreibungen)\n",
    "\n",
    "def setze_anlagenart(tank_beschreibungen):\n",
    "    # Überprüfen, ob 'Processing Chamber' in den Beschreibungen vorkommt\n",
    "    if \"Processing Chamber\" in tank_beschreibungen:\n",
    "        return \"HBV-Anlage\"\n",
    "    # Überprüfen, ob 'Storage Chamber' in den Beschreibungen vorkommt\n",
    "    elif \"Storage Chamber\" in tank_beschreibungen:\n",
    "        return \"Tanklager\"\n",
    "    else:\n",
    "        # Fehlermeldung, wenn keine oder beide Beschreibungen vorhanden sind\n",
    "        print(\"Fehler: Ungültige Anlagenkonfiguration. Anlagenart manuell befüllen.\")\n",
    "        return None\n",
    "\n",
    "# Beispielaufruf\n",
    "anlagenart = setze_anlagenart(tank_beschreibungen)\n",
    "\n",
    "# Ausgabe der Ergebnisse\n",
    "print(anlagenart)\n",
    "\n"
   ]
  },
  {
   "cell_type": "markdown",
   "metadata": {},
   "source": [
    "Angaben zu den wassergefährdenden Stoffen in der Anlage"
   ]
  },
  {
   "cell_type": "code",
   "execution_count": null,
   "metadata": {},
   "outputs": [],
   "source": []
  },
  {
   "cell_type": "markdown",
   "metadata": {},
   "source": [
    "Angaben zu Behältern"
   ]
  },
  {
   "cell_type": "code",
   "execution_count": 41,
   "metadata": {},
   "outputs": [
    {
     "name": "stdout",
     "output_type": "stream",
     "text": [
      "TagName: T4750, NominalCapacity: 22.0\n",
      "  Chamber Function: Processing, MaterialOfConstructionCode: 1.4306\n"
     ]
    }
   ],
   "source": [
    "# Initialisierung der Variable außerhalb der Funktion\n",
    "material_of_construction = None\n",
    "\n",
    "def tank_suche(dexpi_xml_path):\n",
    "    # Einlesen des Inhalts der DEXPI-XML-Datei\n",
    "    with open(dexpi_xml_path, 'r') as file:\n",
    "        dexpi_xml_content = file.read()\n",
    "\n",
    "    # Parsen der dexpi_xml und Erstellen des Wurzelelements\n",
    "    root = ET.fromstring(dexpi_xml_content)\n",
    "    tanks = []\n",
    "\n",
    "    # Durchlaufen aller Equipment-Elemente mit ComponentClass='Tank'\n",
    "    for equipment in root.findall(\".//Equipment[@ComponentClass='Tank']\"):\n",
    "        # Extrahieren des Tag-Namens des Tanks\n",
    "        tag_name = equipment.get('TagName', '')\n",
    "\n",
    "        # Aussortieren von Tanks ohne Tag-Namen, die mit 'T' beginnen\n",
    "        if not tag_name.startswith('T'):\n",
    "            continue\n",
    "\n",
    "        # Extrahieren des NominalCapacity-Elements\n",
    "        nominal_capacity_element = equipment.find(\".//GenericAttribute[@Name='NominalCapacity(Volume)']\")\n",
    "        \n",
    "        # Überprüfen, ob NominalCapacity-Element vorhanden ist\n",
    "        if nominal_capacity_element is not None:\n",
    "            # Extrahieren des Wertes von NominalCapacity\n",
    "            nominal_capacity_str = nominal_capacity_element.get('Value', '')\n",
    "\n",
    "            # Überprüfen, ob NominalCapacity eine Zahl ist\n",
    "            try:\n",
    "                nominal_capacity = float(nominal_capacity_str)\n",
    "            except ValueError:\n",
    "                # Fehlermeldung ausgeben und zum nächsten Tank gehen\n",
    "                print(f\"Fehler: NominalCapacity für Tank mit TagName '{tag_name}' ist keine Zahl.\")\n",
    "                continue\n",
    "        else:\n",
    "            # Fehlermeldung ausgeben und zum nächsten Tank gehen\n",
    "            print(f\"Fehler: Kein NominalCapacity-Attribut für Tank mit TagName '{tag_name}'.\")\n",
    "            continue\n",
    "\n",
    "        # Extrahieren der Kammern des Tanks\n",
    "        chambers = []\n",
    "        for chamber in equipment.findall(\".//Equipment[@ComponentClass='Chamber']\"):\n",
    "            chamber_function = chamber.find(\".//GenericAttribute[@Name='ChamberFunctionAssignmentClass']\").get('Value', '')\n",
    "            \n",
    "            # Nur Kammern mit 'Process Chamber' oder 'Storage Chamber' berücksichtigen\n",
    "            if chamber_function in ['Processing', 'Storage']:\n",
    "                material_of_construction = chamber.find(\".//GenericAttribute[@Name='MaterialOfConstructionCodeAssignmentClass']\").get('Value', '')\n",
    "                chambers.append({\n",
    "                    'Function': chamber_function,\n",
    "                    'MaterialOfConstructionCode': material_of_construction\n",
    "                })\n",
    "\n",
    "        # Zusammenstellen der Tankdaten und Hinzufügen zur Liste\n",
    "        tank_data = {\n",
    "            'TagName': tag_name,\n",
    "            'NominalCapacity': nominal_capacity,\n",
    "            'Chambers': chambers\n",
    "        }\n",
    "        tanks.append(tank_data)\n",
    "\n",
    "    # Rückgabe der Liste von Tanks\n",
    "    return tanks\n",
    "\n",
    "# Aufrufen der Funktion mit der DEXPI-XML-Datei und Ausgabe der Ergebnisse\n",
    "tanks = tank_suche(dexpi_xml)\n",
    "\n",
    "for tank in tanks:\n",
    "    print(f'TagName: {tank[\"TagName\"]}, NominalCapacity: {tank[\"NominalCapacity\"]}')\n",
    "    \n",
    "    for chamber in tank['Chambers']:\n",
    "        print(f'  Chamber Function: {chamber[\"Function\"]}, MaterialOfConstructionCode: {chamber[\"MaterialOfConstructionCode\"]}')\n",
    "\n",
    "\n",
    "\n"
   ]
  },
  {
   "cell_type": "markdown",
   "metadata": {},
   "source": [
    "AI-Anwendung"
   ]
  },
  {
   "cell_type": "markdown",
   "metadata": {},
   "source": [
    "Quelle: https://python.langchain.com/docs/use_cases/chatbots/quickstart"
   ]
  },
  {
   "cell_type": "code",
   "execution_count": 37,
   "metadata": {},
   "outputs": [
    {
     "ename": "ValidationError",
     "evalue": "1 validation error for ChatOpenAI\n__root__\n  Did not find openai_api_key, please add an environment variable `OPENAI_API_KEY` which contains it, or pass `openai_api_key` as a named parameter. (type=value_error)",
     "output_type": "error",
     "traceback": [
      "\u001b[0;31m---------------------------------------------------------------------------\u001b[0m",
      "\u001b[0;31mValidationError\u001b[0m                           Traceback (most recent call last)",
      "Cell \u001b[0;32mIn[37], line 14\u001b[0m\n\u001b[1;32m     11\u001b[0m \u001b[38;5;28;01mfrom\u001b[39;00m \u001b[38;5;21;01mlangchain_openai\u001b[39;00m \u001b[38;5;28;01mimport\u001b[39;00m ChatOpenAI\n\u001b[1;32m     13\u001b[0m \u001b[38;5;66;03m# Initialisieren des ChatOpenAI-Objekts\u001b[39;00m\n\u001b[0;32m---> 14\u001b[0m chat \u001b[38;5;241m=\u001b[39m \u001b[43mChatOpenAI\u001b[49m\u001b[43m(\u001b[49m\u001b[43mmodel\u001b[49m\u001b[38;5;241;43m=\u001b[39;49m\u001b[38;5;124;43m\"\u001b[39;49m\u001b[38;5;124;43mgpt-3.5-turbo-1106\u001b[39;49m\u001b[38;5;124;43m\"\u001b[39;49m\u001b[43m,\u001b[49m\u001b[43m \u001b[49m\u001b[43mtemperature\u001b[49m\u001b[38;5;241;43m=\u001b[39;49m\u001b[38;5;241;43m1\u001b[39;49m\u001b[43m,\u001b[49m\u001b[43m \u001b[49m\u001b[43mopenai_api_key\u001b[49m\u001b[38;5;241;43m=\u001b[39;49m\u001b[43mopenai_api_key\u001b[49m\u001b[43m)\u001b[49m\n",
      "File \u001b[0;32m~/anaconda3/envs/schemaextraction/lib/python3.12/site-packages/langchain_core/load/serializable.py:120\u001b[0m, in \u001b[0;36mSerializable.__init__\u001b[0;34m(self, **kwargs)\u001b[0m\n\u001b[1;32m    119\u001b[0m \u001b[38;5;28;01mdef\u001b[39;00m \u001b[38;5;21m__init__\u001b[39m(\u001b[38;5;28mself\u001b[39m, \u001b[38;5;241m*\u001b[39m\u001b[38;5;241m*\u001b[39mkwargs: Any) \u001b[38;5;241m-\u001b[39m\u001b[38;5;241m>\u001b[39m \u001b[38;5;28;01mNone\u001b[39;00m:\n\u001b[0;32m--> 120\u001b[0m     \u001b[38;5;28;43msuper\u001b[39;49m\u001b[43m(\u001b[49m\u001b[43m)\u001b[49m\u001b[38;5;241;43m.\u001b[39;49m\u001b[38;5;21;43m__init__\u001b[39;49m\u001b[43m(\u001b[49m\u001b[38;5;241;43m*\u001b[39;49m\u001b[38;5;241;43m*\u001b[39;49m\u001b[43mkwargs\u001b[49m\u001b[43m)\u001b[49m\n\u001b[1;32m    121\u001b[0m     \u001b[38;5;28mself\u001b[39m\u001b[38;5;241m.\u001b[39m_lc_kwargs \u001b[38;5;241m=\u001b[39m kwargs\n",
      "File \u001b[0;32m~/anaconda3/envs/schemaextraction/lib/python3.12/site-packages/pydantic/v1/main.py:341\u001b[0m, in \u001b[0;36mBaseModel.__init__\u001b[0;34m(__pydantic_self__, **data)\u001b[0m\n\u001b[1;32m    339\u001b[0m values, fields_set, validation_error \u001b[38;5;241m=\u001b[39m validate_model(__pydantic_self__\u001b[38;5;241m.\u001b[39m\u001b[38;5;18m__class__\u001b[39m, data)\n\u001b[1;32m    340\u001b[0m \u001b[38;5;28;01mif\u001b[39;00m validation_error:\n\u001b[0;32m--> 341\u001b[0m     \u001b[38;5;28;01mraise\u001b[39;00m validation_error\n\u001b[1;32m    342\u001b[0m \u001b[38;5;28;01mtry\u001b[39;00m:\n\u001b[1;32m    343\u001b[0m     object_setattr(__pydantic_self__, \u001b[38;5;124m'\u001b[39m\u001b[38;5;124m__dict__\u001b[39m\u001b[38;5;124m'\u001b[39m, values)\n",
      "\u001b[0;31mValidationError\u001b[0m: 1 validation error for ChatOpenAI\n__root__\n  Did not find openai_api_key, please add an environment variable `OPENAI_API_KEY` which contains it, or pass `openai_api_key` as a named parameter. (type=value_error)"
     ]
    }
   ],
   "source": [
    "# Importieren der benötigten Module\n",
    "import os\n",
    "\n",
    "# Extrahieren des OpenAI-API-Schlüssels aus den Umgebungsvariablen oder direkt eintragen zwischen \"\"\n",
    "openai_api_key = os.getenv(\"OPENAI_API_KEY\", \"\")\n",
    "\n",
    "# Jetzt ist der OpenAI-API-Schlüssel verfügbar und kann im Code verwendet werden, der print unten nur zum Test\n",
    "#print(f\"OpenAI API Key: {openai_api_key}\")\n",
    "\n",
    "# Importieren der benötigten Module\n",
    "from langchain_openai import ChatOpenAI\n",
    "\n",
    "# Initialisieren des ChatOpenAI-Objekts\n",
    "# Mit er temperature kann man \"herum experimentieren\"\n",
    "chat = ChatOpenAI(model=\"gpt-3.5-turbo-1106\", temperature=1, openai_api_key=openai_api_key)\n"
   ]
  },
  {
   "cell_type": "code",
   "execution_count": 44,
   "metadata": {},
   "outputs": [
    {
     "ename": "NameError",
     "evalue": "name 'chat' is not defined",
     "output_type": "error",
     "traceback": [
      "\u001b[0;31m---------------------------------------------------------------------------\u001b[0m",
      "\u001b[0;31mNameError\u001b[0m                                 Traceback (most recent call last)",
      "Cell \u001b[0;32mIn[44], line 8\u001b[0m\n\u001b[1;32m      5\u001b[0m \u001b[38;5;66;03m# Verwendung der Variable in der Chat-Anfrage\u001b[39;00m\n\u001b[1;32m      6\u001b[0m \u001b[38;5;28;01mfrom\u001b[39;00m \u001b[38;5;21;01mlangchain_core\u001b[39;00m\u001b[38;5;21;01m.\u001b[39;00m\u001b[38;5;21;01mmessages\u001b[39;00m \u001b[38;5;28;01mimport\u001b[39;00m HumanMessage\n\u001b[0;32m----> 8\u001b[0m \u001b[43mchat\u001b[49m\u001b[38;5;241m.\u001b[39minvoke(\n\u001b[1;32m      9\u001b[0m     [\n\u001b[1;32m     10\u001b[0m         HumanMessage(\n\u001b[1;32m     11\u001b[0m             content\u001b[38;5;241m=\u001b[39m\u001b[38;5;124mf\u001b[39m\u001b[38;5;124m'\u001b[39m\u001b[38;5;124mSetze die Sprache auf Deutsch. Du bist ein Assistent. Du hast eine Aufgabe. Ich gebe dir einen Werkstoff. Deine Aufgabe besteht darin, zuzuordnen, ob es sich beim gegebenen Werkstoff um ein Kunststoff, ein Metall oder einen anderes Material handelt. Versuche den gegebenen Werkstoff in eine der drei Kategorien: \u001b[39m\u001b[38;5;124m\"\u001b[39m\u001b[38;5;124mMetall\u001b[39m\u001b[38;5;124m\"\u001b[39m\u001b[38;5;124m, \u001b[39m\u001b[38;5;124m\"\u001b[39m\u001b[38;5;124mKunststoff\u001b[39m\u001b[38;5;124m\"\u001b[39m\u001b[38;5;124m, \u001b[39m\u001b[38;5;124m\"\u001b[39m\u001b[38;5;124manderes Material\u001b[39m\u001b[38;5;124m\"\u001b[39m\u001b[38;5;124m einzustufen. Antworte nur: \u001b[39m\u001b[38;5;124m\"\u001b[39m\u001b[38;5;124mMetall\u001b[39m\u001b[38;5;124m\"\u001b[39m\u001b[38;5;124m, \u001b[39m\u001b[38;5;124m\"\u001b[39m\u001b[38;5;124mKunststoff\u001b[39m\u001b[38;5;124m\"\u001b[39m\u001b[38;5;124m, \u001b[39m\u001b[38;5;124m\"\u001b[39m\u001b[38;5;124manderes Material\u001b[39m\u001b[38;5;124m\"\u001b[39m\u001b[38;5;124m.  Der gesuchte Werkstoff ist: \u001b[39m\u001b[38;5;132;01m{\u001b[39;00mwerkstoff_bezeichnung\u001b[38;5;132;01m}\u001b[39;00m\u001b[38;5;124m. Falls es sich dabei gar nicht um einen Werkstoff im engeren Sinn handelt sage \u001b[39m\u001b[38;5;124m\"\u001b[39m\u001b[38;5;124mError\u001b[39m\u001b[38;5;124m\"\u001b[39m\u001b[38;5;124m'\u001b[39m\n\u001b[1;32m     12\u001b[0m         )\n\u001b[1;32m     13\u001b[0m     ]\n\u001b[1;32m     14\u001b[0m )\n",
      "\u001b[0;31mNameError\u001b[0m: name 'chat' is not defined"
     ]
    }
   ],
   "source": [
    "# Definition der Werkstoffbezeichnung, hier kein Automatismus\n",
    "# Es können unterschiedliche Werkstoffe getestet werden\n",
    "werkstoff_bezeichnung = \"1.4571\"\n",
    "\n",
    "# Verwendung der Variable in der Chat-Anfrage\n",
    "from langchain_core.messages import HumanMessage\n",
    "\n",
    "chat.invoke(\n",
    "    [\n",
    "        HumanMessage(\n",
    "            content=f'Setze die Sprache auf Deutsch. Du bist ein Assistent. Du hast eine Aufgabe. Ich gebe dir einen Werkstoff. Deine Aufgabe besteht darin, zuzuordnen, ob es sich beim gegebenen Werkstoff um ein Kunststoff, ein Metall oder einen anderes Material handelt. Versuche den gegebenen Werkstoff in eine der drei Kategorien: \"Metall\", \"Kunststoff\", \"anderes Material\" einzustufen. Antworte nur: \"Metall\", \"Kunststoff\", \"anderes Material\".  Der gesuchte Werkstoff ist: {werkstoff_bezeichnung}. Falls es sich dabei gar nicht um einen Werkstoff im engeren Sinn handelt sage \"Error\"'\n",
    "        )\n",
    "    ]\n",
    ")\n"
   ]
  },
  {
   "cell_type": "markdown",
   "metadata": {},
   "source": [
    "Angaben zu den Rohrleitungen"
   ]
  },
  {
   "cell_type": "code",
   "execution_count": null,
   "metadata": {},
   "outputs": [],
   "source": []
  },
  {
   "cell_type": "markdown",
   "metadata": {},
   "source": [
    "Formular"
   ]
  },
  {
   "cell_type": "code",
   "execution_count": 39,
   "metadata": {},
   "outputs": [
    {
     "name": "stdout",
     "output_type": "stream",
     "text": [
      "<tabelle_angaben_anlage><ueberschrift>Angaben zur Anlage</ueberschrift><spalte><zeile2>Anlagenbezeichnung</zeile2><zeile1>Anlagenart</zeile1><zeile3>Anlagenbeschreibung</zeile3></spalte><spalte><anlagenbezeichnung>C01V01-HEX.EX03</anlagenbezeichnung><zeile1 /></spalte></tabelle_angaben_anlage>\n"
     ]
    }
   ],
   "source": [
    "# Erstelle die XML-Struktur für die Tabelle mit den extrahierten Werten\n",
    "tabelle_angaben_anlage = ET.Element('tabelle_angaben_anlage')\n",
    "ueberschrift = ET.SubElement(tabelle_angaben_anlage, 'ueberschrift')\n",
    "ueberschrift.text = 'Angaben zur Anlage'\n",
    "\n",
    "spalte = ET.SubElement(tabelle_angaben_anlage, 'spalte')\n",
    "zeile2 = ET.SubElement(spalte, 'zeile2')\n",
    "zeile2.text = 'Anlagenbezeichnung'\n",
    "zeile1 = ET.SubElement(spalte, 'zeile1')\n",
    "zeile1.text = 'Anlagenart'\n",
    "zeile3 = ET.SubElement(spalte, 'zeile3')\n",
    "zeile3.text = 'Anlagenbeschreibung'\n",
    "\n",
    "spalte2 = ET.SubElement(tabelle_angaben_anlage, 'spalte')\n",
    "anlagenbezeichnung_element = ET.SubElement(spalte2, 'anlagenbezeichnung')\n",
    "anlagenbezeichnung_element.text = anlagenbezeichnung\n",
    "zeile1 = ET.SubElement(spalte2, 'zeile1')\n",
    "# Hier kannst du die weiteren Werte einfügen, z.B. anlagenart und anlagenbeschreibung\n",
    "# zeile1.text = anlagenart\n",
    "# zeile3.text = anlagenbeschreibung\n",
    "\n",
    "# Erstelle das XML-Dokument\n",
    "xml_tree = ET.ElementTree(tabelle_angaben_anlage)\n",
    "\n",
    "# Speichere das XML-Dokument in eine Datei\n",
    "# xml_tree.write(\"/tmp/ausgabe.xml\")\n",
    "\n",
    "# Wandele die XML-Struktur in eine Zeichenfolge um\n",
    "xml_str = ET.tostring(tabelle_angaben_anlage, encoding='utf-8').decode('utf-8')\n",
    "\n",
    "# Gib die XML-Zeichenfolge aus\n",
    "print(xml_str)"
   ]
  },
  {
   "cell_type": "markdown",
   "metadata": {},
   "source": [
    "Back-Up"
   ]
  },
  {
   "cell_type": "code",
   "execution_count": null,
   "metadata": {},
   "outputs": [
    {
     "name": "stdout",
     "output_type": "stream",
     "text": [
      "{'anlagenbezeichnung': 'C01V01-HEX.EX03', 'component_classes': ['Tank', 'ReciprocatingPump', 'CentrifugalPump', 'ShellAndTubeHeatExchanger', 'PlateAndShellHeatExchanger', 'Tank', 'ReciprocatingPump', 'CentrifugalPump', 'ShellAndTubeHeatExchanger', 'PlateAndShellHeatExchanger', 'PipingNetworkSystem', 'PipingNetworkSystem', 'PipingNetworkSystem', 'PipingNetworkSystem', 'PipingNetworkSystem', 'PipingNetworkSystem', 'PipingNetworkSystem', 'PipingNetworkSystem', 'PipingNetworkSystem', 'PipingNetworkSystem', 'PipingNetworkSystem', 'PipingNetworkSystem', 'PipingNetworkSystem', 'PipingNetworkSystem'], 'Anlagenumfang': {'ShellAndTubeHeatExchanger': {}, 'PipingNetworkSystem': {}, 'CentrifugalPump': {}, 'ReciprocatingPump': {}, 'Tank': {}, 'PlateAndShellHeatExchanger': {}}}\n"
     ]
    }
   ],
   "source": [
    "# Später für Aufzählung\n",
    "# Funktion zum Laden und Extrahieren von Daten aus der DEXPI-Datei.\n",
    "def lade_daten(dexpi_xml):\n",
    "    try:\n",
    "        # Lade das XML-Dokument und erhalte die Wurzel des Baums.\n",
    "        tree = ET.parse(dexpi_xml)\n",
    "        root = tree.getroot()\n",
    "\n",
    "        # Extrahiere die Anlagenbezeichnung aus dem XML-Baum.\n",
    "        anlagenbezeichnung = root.find('.//Drawing').get('Name')\n",
    "\n",
    "        # Extrahiere ComponentClass aus allen Equipment- und PipingNetworkSystem-Elementen.\n",
    "        equipment_elements = root.findall('.//Equipment')\n",
    "        piping_network_system_elements = root.findall('.//PipingNetworkSystem')\n",
    "\n",
    "        component_classes = []\n",
    "\n",
    "        for equipment_element in equipment_elements:\n",
    "            component_class = equipment_element.get('ComponentClass')\n",
    "\n",
    "            # Überprüfe, ob die ComponentClass den erlaubten Werten entspricht.\n",
    "            erlaubte_component_classes = ['Tank', 'ReciprocatingPump', 'CentrifugalPump', 'PlateAndShellHeatExchanger', 'ShellAndTubeHeatExchanger']\n",
    "            if component_class in erlaubte_component_classes:\n",
    "                component_classes.append(component_class)\n",
    "\n",
    "        for piping_network_system_element in piping_network_system_elements:\n",
    "            component_class = piping_network_system_element.get('ComponentClass')\n",
    "\n",
    "            # Überprüfe, ob die ComponentClass den erlaubten Werten entspricht.\n",
    "            erlaubte_component_classes = ['PipingNetworkSystem']\n",
    "            if component_class in erlaubte_component_classes:\n",
    "                component_classes.append(component_class)\n",
    "\n",
    "        # Überprüfe, ob mindestens eine gültige ComponentClass gefunden wurde.\n",
    "        if not component_classes:\n",
    "            raise ValueError(\"Keine gültige ComponentClass gefunden.\")\n",
    "\n",
    "        # Weitere Werte können entsprechend extrahiert werden.\n",
    "\n",
    "        # Entferne Duplikate und erstelle ein eindeutiges Set von Komponentenklassen.\n",
    "        unique_component_classes = set(component_classes)\n",
    "\n",
    "        # Erstelle ein Dictionary mit dem Namen Anlagenumfang, in dem jede ComponentClass nur einmal vorkommt.\n",
    "        Anlagenumfang = {klass: {} for klass in unique_component_classes}\n",
    "\n",
    "        # Gib ein Dictionary mit den extrahierten Werten zurück.\n",
    "        return {\n",
    "            'anlagenbezeichnung': anlagenbezeichnung,\n",
    "            'component_classes': component_classes,\n",
    "            'Anlagenumfang': Anlagenumfang,\n",
    "            # Weitere extrahierte Werte können hier hinzugefügt werden.\n",
    "        }\n",
    "\n",
    "    except Exception as e:\n",
    "        # Falls ein Fehler auftritt, gib eine Fehlermeldung aus und gibt None zurück.\n",
    "        print(f\"Fehler beim Laden und Extrahieren der Daten: {e}\")\n",
    "        return None\n",
    "\n",
    "# Beispielaufruf der Funktion und Ausgabe der extrahierten Daten.\n",
    "daten = lade_daten(dexpi_xml)\n",
    "print(daten)\n"
   ]
  },
  {
   "cell_type": "code",
   "execution_count": null,
   "metadata": {},
   "outputs": [
    {
     "name": "stdout",
     "output_type": "stream",
     "text": [
      "Anlagenbezeichnung zur Kontrolle: C01V01-HEX.EX03\n",
      "Fehler beim Befüllen und Speichern des Formblatts: mismatched tag: line 244, column 2\n"
     ]
    }
   ],
   "source": [
    "import requests\n",
    "import xml.etree.ElementTree as ET\n",
    "\n",
    "# GitHub Raw-URL für die DEXPI-R&I Datei\n",
    "github_url_dexpi = 'https://raw.githubusercontent.com/FloT10/MillerFlorinBA/main/C01V01-HEX.EX03.xml'\n",
    "# GitHub Raw-URL für die Formblatt-Vorlage\n",
    "github_url_formblatt = 'https://raw.githubusercontent.com/FloT10/MillerFlorinBA/main/formblatt_6.2.xml'\n",
    "\n",
    "# Dateien lokal speichern\n",
    "def lade_und_speichere(url, lokal_path):\n",
    "    response = requests.get(url)\n",
    "    with open(lokal_path, 'w') as file:\n",
    "        file.write(response.text)\n",
    "\n",
    "# Laden und Speichern der DEXPI-R&I Datei\n",
    "dexpi_xml = '/tmp/C01V01-HEX.EX03.xml'\n",
    "lade_und_speichere(github_url_dexpi, dexpi_xml)\n",
    "\n",
    "# Laden und Speichern der Formblatt-Vorlage\n",
    "formblatt_vorlage = '/tmp/formblatt_6.2.xml'\n",
    "lade_und_speichere(github_url_formblatt, formblatt_vorlage)\n",
    "\n",
    "# Funktion zum Laden und Extrahieren der Werte aus dem DEXPI-R&I\n",
    "def lade_daten(dexpi_xml):\n",
    "    try:\n",
    "        # Laden des DEXPI-R&I Dokuments\n",
    "        tree = ET.parse(dexpi_xml)\n",
    "        root = tree.getroot()\n",
    "\n",
    "        # Extrahieren der Werte, wie benötigt\n",
    "        anlagenbezeichnung = root.find('.//Drawing').get('Name')\n",
    "        # Weitere Werte entsprechend extrahieren\n",
    "\n",
    "        # Kontrollausgabe der Anlagenbezeichnung\n",
    "        print(f\"Anlagenbezeichnung zur Kontrolle: {anlagenbezeichnung}\")\n",
    "\n",
    "        return {\n",
    "            'anlagenbezeichnung': anlagenbezeichnung,\n",
    "            # Weitere extrahierte Werte hinzufügen\n",
    "        }\n",
    "\n",
    "    except Exception as e:\n",
    "        print(f\"Fehler beim Laden und Extrahieren der Daten aus DEXPI-R&I: {e}\")\n",
    "        return None\n",
    "\n",
    "# Funktion zum Befüllen der Formblatt-Vorlage mit den extrahierten DEXPI-R&I Daten\n",
    "def befuellen_und_speichern(formblatt_vorlage, formblatt_befüllt, daten):\n",
    "    try:\n",
    "        tree = ET.parse(formblatt_vorlage)\n",
    "        root = tree.getroot()\n",
    "\n",
    "        # Befülle die Vorlage mit den extrahierten Daten\n",
    "        root.find('.//anlagenbezeichnung').text = daten['anlagenbezeichnung']\n",
    "        # Weitere Werte in der Vorlage entsprechend befüllen\n",
    "\n",
    "        # Speichere die befüllte Vorlage als neue Datei\n",
    "        tree.write(formblatt_befüllt)\n",
    "\n",
    "        print(f\"Das Formblatt wurde erfolgreich mit den Daten befüllt und unter {formblatt_befüllt} gespeichert.\")\n",
    "\n",
    "    except Exception as e:\n",
    "        print(f\"Fehler beim Befüllen und Speichern des Formblatts: {e}\")\n",
    "\n",
    "# Lade Daten aus der DEXPI-R&I Datei\n",
    "daten_dexpi = lade_daten(dexpi_xml)\n",
    "\n",
    "# Lade die Formblatt-Vorlage\n",
    "formblatt_befüllt= '/tmp/Ziel/Formblatt_befüllt.xml'\n",
    "\n",
    "# Befülle die Formblatt-Vorlage und speichere das Ergebnis\n",
    "befuellen_und_speichern(formblatt_vorlage, formblatt_befüllt, daten_dexpi)\n"
   ]
  }
 ],
 "metadata": {
  "kernelspec": {
   "display_name": "schemaextraction",
   "language": "python",
   "name": "python3"
  },
  "language_info": {
   "codemirror_mode": {
    "name": "ipython",
    "version": 3
   },
   "file_extension": ".py",
   "mimetype": "text/x-python",
   "name": "python",
   "nbconvert_exporter": "python",
   "pygments_lexer": "ipython3",
   "version": "3.12.0"
  }
 },
 "nbformat": 4,
 "nbformat_minor": 2
}

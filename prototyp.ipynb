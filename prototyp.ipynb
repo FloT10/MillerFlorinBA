{
 "cells": [
  {
   "cell_type": "markdown",
   "metadata": {},
   "source": [
    "Umgebung einrichten.\n"
   ]
  },
  {
   "cell_type": "markdown",
   "metadata": {},
   "source": [
    "Verfügbarmachen des DEXPI-R&Is von GitHub"
   ]
  },
  {
   "cell_type": "code",
   "execution_count": 3,
   "metadata": {},
   "outputs": [
    {
     "name": "stdout",
     "output_type": "stream",
     "text": [
      "{'anlagenbezeichnung': 'C01V01-HEX.EX03'}\n"
     ]
    }
   ],
   "source": [
    "import requests\n",
    "\n",
    "# GitHub Raw-URL für die Datei\n",
    "github_url_dexpi = 'https://raw.githubusercontent.com/FloT10/MillerFlorinBA/main/C01V01-HEX.EX03.xml'\n",
    "github_url_formblatt = 'https://raw.githubusercontent.com/FloT10/MillerFlorinBA/main/formblatt_6.2.xml'\n",
    "\n",
    "# Datei herunterladen\n",
    "response = requests.get(github_url_dexpi)\n",
    "\n",
    "# Datei lokal speichern (im Textmodus 'w')\n",
    "with open('/tmp/C01V01-HEX.EX03.xml', 'w') as file:\n",
    "    file.write(response.text)\n",
    "\n",
    "dexpi_xml = \"/tmp/C01V01-HEX.EX03.xml\"\n",
    "\n",
    "#Funktion zum Laden und Extrahieren der Werte aus dem DEXPI-R&I (C01V01)\n",
    "import xml.etree.ElementTree as ET\n",
    "\n",
    "def lade_daten(dexpi_xml):\n",
    "    try:\n",
    "        # Laden des Dokuments\n",
    "        tree = ET.parse(dexpi_xml)\n",
    "        root = tree.getroot()\n",
    "\n",
    "        # Extrahieren der Werte, wie benötigt\n",
    "        anlagenbezeichnung = root.find('.//Drawing').get('Name')\n",
    "        # Weitere Werte entsprechend extrahieren\n",
    "\n",
    "        return {\n",
    "            'anlagenbezeichnung': anlagenbezeichnung,\n",
    "            # Weitere extrahierte Werte hinzufügen\n",
    "        }\n",
    "\n",
    "    except Exception as e:\n",
    "        print(f\"Fehler beim Laden und Extrahieren der Daten: {e}\")\n",
    "        return None\n",
    "\n",
    "\n",
    "# Beispielaufruf der Funktion\n",
    "daten = lade_daten(dexpi_xml)\n",
    "print(daten)\n",
    "\n"
   ]
  },
  {
   "cell_type": "code",
   "execution_count": 12,
   "metadata": {},
   "outputs": [
    {
     "name": "stdout",
     "output_type": "stream",
     "text": [
      "Anlagenbezeichnung zur Kontrolle: C01V01-HEX.EX03\n",
      "Fehler beim Befüllen und Speichern des Formblatts: mismatched tag: line 244, column 2\n"
     ]
    }
   ],
   "source": [
    "import requests\n",
    "import xml.etree.ElementTree as ET\n",
    "\n",
    "# GitHub Raw-URL für die DEXPI-R&I Datei\n",
    "github_url_dexpi = 'https://raw.githubusercontent.com/FloT10/MillerFlorinBA/main/C01V01-HEX.EX03.xml'\n",
    "# GitHub Raw-URL für die Formblatt-Vorlage\n",
    "github_url_formblatt = 'https://raw.githubusercontent.com/FloT10/MillerFlorinBA/main/formblatt_6.2.xml'\n",
    "\n",
    "# Dateien lokal speichern\n",
    "def lade_und_speichere(url, lokal_path):\n",
    "    response = requests.get(url)\n",
    "    with open(lokal_path, 'w') as file:\n",
    "        file.write(response.text)\n",
    "\n",
    "# Laden und Speichern der DEXPI-R&I Datei\n",
    "dexpi_xml = '/tmp/C01V01-HEX.EX03.xml'\n",
    "lade_und_speichere(github_url_dexpi, dexpi_xml)\n",
    "\n",
    "# Laden und Speichern der Formblatt-Vorlage\n",
    "formblatt_vorlage = '/tmp/formblatt_6.2.xml'\n",
    "lade_und_speichere(github_url_formblatt, formblatt_vorlage)\n",
    "\n",
    "# Funktion zum Laden und Extrahieren der Werte aus dem DEXPI-R&I\n",
    "def lade_daten(dexpi_xml):\n",
    "    try:\n",
    "        # Laden des DEXPI-R&I Dokuments\n",
    "        tree = ET.parse(dexpi_xml)\n",
    "        root = tree.getroot()\n",
    "\n",
    "        # Extrahieren der Werte, wie benötigt\n",
    "        anlagenbezeichnung = root.find('.//Drawing').get('Name')\n",
    "        # Weitere Werte entsprechend extrahieren\n",
    "\n",
    "        # Kontrollausgabe der Anlagenbezeichnung\n",
    "        print(f\"Anlagenbezeichnung zur Kontrolle: {anlagenbezeichnung}\")\n",
    "\n",
    "        return {\n",
    "            'anlagenbezeichnung': anlagenbezeichnung,\n",
    "            # Weitere extrahierte Werte hinzufügen\n",
    "        }\n",
    "\n",
    "    except Exception as e:\n",
    "        print(f\"Fehler beim Laden und Extrahieren der Daten aus DEXPI-R&I: {e}\")\n",
    "        return None\n",
    "\n",
    "# Funktion zum Befüllen der Formblatt-Vorlage mit den extrahierten DEXPI-R&I Daten\n",
    "def befuellen_und_speichern(formblatt_vorlage, formblatt_befüllt, daten):\n",
    "    try:\n",
    "        tree = ET.parse(formblatt_vorlage)\n",
    "        root = tree.getroot()\n",
    "\n",
    "        # Befülle die Vorlage mit den extrahierten Daten\n",
    "        root.find('.//anlagenbezeichnung').text = daten['anlagenbezeichnung']\n",
    "        # Weitere Werte in der Vorlage entsprechend befüllen\n",
    "\n",
    "        # Speichere die befüllte Vorlage als neue Datei\n",
    "        tree.write(formblatt_befüllt)\n",
    "\n",
    "        print(f\"Das Formblatt wurde erfolgreich mit den Daten befüllt und unter {formblatt_befüllt} gespeichert.\")\n",
    "\n",
    "    except Exception as e:\n",
    "        print(f\"Fehler beim Befüllen und Speichern des Formblatts: {e}\")\n",
    "\n",
    "# Lade Daten aus der DEXPI-R&I Datei\n",
    "daten_dexpi = lade_daten(dexpi_xml)\n",
    "\n",
    "# Lade die Formblatt-Vorlage\n",
    "formblatt_befüllt= '/tmp/Ziel/Formblatt_befüllt.xml'\n",
    "\n",
    "# Befülle die Formblatt-Vorlage und speichere das Ergebnis\n",
    "befuellen_und_speichern(formblatt_vorlage, formblatt_befüllt, daten_dexpi)\n"
   ]
  }
 ],
 "metadata": {
  "kernelspec": {
   "display_name": "schemaextraction",
   "language": "python",
   "name": "python3"
  },
  "language_info": {
   "codemirror_mode": {
    "name": "ipython",
    "version": 3
   },
   "file_extension": ".py",
   "mimetype": "text/x-python",
   "name": "python",
   "nbconvert_exporter": "python",
   "pygments_lexer": "ipython3",
   "version": "3.12.0"
  }
 },
 "nbformat": 4,
 "nbformat_minor": 2
}

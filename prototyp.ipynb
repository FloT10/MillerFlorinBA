{
 "cells": [
  {
   "cell_type": "markdown",
   "metadata": {},
   "source": [
    "Umgebung einrichten.\n"
   ]
  },
  {
   "cell_type": "code",
   "execution_count": 15,
   "metadata": {},
   "outputs": [],
   "source": [
    "import xml.etree.ElementTree as ET\n",
    "import requests"
   ]
  },
  {
   "cell_type": "markdown",
   "metadata": {},
   "source": [
    "Verfügbarmachen des DEXPI-R&Is von GitHub"
   ]
  },
  {
   "cell_type": "code",
   "execution_count": 35,
   "metadata": {},
   "outputs": [],
   "source": [
    "# GitHub Raw-URL für die Datei\n",
    "github_url_dexpi = 'https://github.com/FloT10/MillerFlorinBA/blob/73b0c11424830c07622cfdb6c7d68f9910d7514b/C01V01-HEX.EX03.xml'\n",
    "\n",
    "# Datei herunterladen\n",
    "response = requests.get(github_url_dexpi)\n",
    "\n",
    "# Datei lokal speichern (im Textmodus 'w')\n",
    "with open('/tmp/C01V01-HEX.EX03.xml', 'w') as file:\n",
    "    file.write(response.text)\n",
    "\n",
    "dexpi_xml_path = \"/tmp/C01V01-HEX.EX03.xml\"\n"
   ]
  },
  {
   "cell_type": "markdown",
   "metadata": {},
   "source": [
    "Funktion zum Laden und Extrahieren der Werte aus dem anderen DEXPI-R&I (C01V01)"
   ]
  },
  {
   "cell_type": "code",
   "execution_count": 36,
   "metadata": {},
   "outputs": [
    {
     "name": "stdout",
     "output_type": "stream",
     "text": [
      "{\"payload\":{\"allShortcutsEnabled\":false,\"fileTree\":{\"\":{\"items\":[{\"name\":\".vscode\",\"path\":\".vscode\",\"contentType\":\"directory\"},{\"name\":\"C01V01-HEX.EX03.xml\",\"path\":\"C01V01-HEX.EX03.xml\",\"contentType\":\"file\"},{\"name\":\"LICENSE\",\"path\":\"LICENSE\",\"contentType\":\"file\"},{\"name\":\"README.md\",\"path\":\"README.md\",\"contentType\":\"file\"},{\"name\":\"formblatt_6.2.xml\",\"path\":\"formblatt_6.2.xml\",\"contentType\":\"file\"},{\"name\":\"prototyp.ipynb\",\"path\":\"prototyp.ipynb\",\"contentType\":\"file\"}],\"totalCount\":6}},\"fileTreeProcessingTime\":1.022781,\"foldersToFetch\":[],\"reducedMotionEnabled\":null,\"repo\":{\"id\":733371200,\"defaultBranch\":\"main\",\"name\":\"MillerFlorinBA\",\"ownerLogin\":\"FloT10\",\"currentUserCanPush\":false,\"isFork\":false,\"isEmpty\":false,\"createdAt\":\"2023-12-19T07:14:43.000Z\",\"ownerAvatar\":\"https://avatars.githubusercontent.com/u/143116830?v=4\",\"public\":true,\"private\":false,\"isOrgOwned\":false},\"symbolsExpanded\":false,\"treeExpanded\":true,\"refInfo\":{\"name\":\"73b0c11424830c07622cfdb6c7d68f9910d7514b\",\"listCacheKey\":\"v0:1705637637.0\",\"canEdit\":false,\"refType\":\"tree\",\"currentOid\":\"73b0c11424830c07622cfdb6c7d68f9910d7514b\"},\"path\":\"C01V01-HEX.EX03.xml\",\"currentUser\":null,\"blob\":{\"rawLines\":null,\"stylingDirectives\":[],\"csv\":null,\"csvError\":null,\"dependabotInfo\":{\"showConfigurationBanner\":false,\"configFilePath\":null,\"networkDependabotPath\":\"/FloT10/MillerFlorinBA/network/updates\",\"dismissConfigurationNoticePath\":\"/settings/dismiss-notice/dependabot_configuration_notice\",\"configurationNoticeDismissed\":null,\"repoAlertsPath\":\"/FloT10/MillerFlorinBA/security/dependabot\",\"repoSecurityAndAnalysisPath\":\"/FloT10/MillerFlorinBA/settings/security_analysis\",\"repoOwnerIsOrg\":false,\"currentUserCanAdminRepo\":false},\"displayName\":\"C01V01-HEX.EX03.xml\",\"displayUrl\":\"https://github.com/FloT10/MillerFlorinBA/blob/73b0c11424830c07622cfdb6c7d68f9910d7514b/C01V01-HEX.EX03.xml?raw=true\",\"headerInfo\":{\"blobSize\":\"1.09 MB\",\"deleteInfo\":{\"deleteTooltip\":\"You must be signed in to make or propose changes\"},\"editInfo\":{\"editTooltip\":\"You must be signed in to make or propose changes\"},\"ghDesktopPath\":null,\"gitLfsPath\":null,\"onBranch\":false,\"shortPath\":\"275f35b\",\"siteNavLoginPath\":\"/login?return_to=https%3A%2F%2Fgithub.com%2FFloT10%2FMillerFlorinBA%2Fblob%2F73b0c11424830c07622cfdb6c7d68f9910d7514b%2FC01V01-HEX.EX03.xml\",\"isCSV\":false,\"isRichtext\":false,\"toc\":null,\"lineInfo\":{\"truncatedLoc\":null,\"truncatedSloc\":null},\"mode\":\"file\"},\"image\":false,\"isCodeownersFile\":null,\"isPlain\":false,\"isValidLegacyIssueTemplate\":false,\"issueTemplateHelpUrl\":\"https://docs.github.com/articles/about-issue-and-pull-request-templates\",\"issueTemplate\":null,\"discussionTemplate\":null,\"language\":null,\"languageID\":null,\"large\":true,\"loggedIn\":false,\"newDiscussionPath\":\"/FloT10/MillerFlorinBA/discussions/new\",\"newIssuePath\":\"/FloT10/MillerFlorinBA/issues/new\",\"planSupportInfo\":{\"repoIsFork\":null,\"repoOwnedByCurrentUser\":null,\"requestFullPath\":\"/FloT10/MillerFlorinBA/blob/73b0c11424830c07622cfdb6c7d68f9910d7514b/C01V01-HEX.EX03.xml\",\"showFreeOrgGatedFeatureMessage\":null,\"showPlanSupportBanner\":null,\"upgradeDataAttributes\":null,\"upgradePath\":null},\"publishBannersInfo\":{\"dismissActionNoticePath\":\"/settings/dismiss-notice/publish_action_from_dockerfile\",\"dismissStackNoticePath\":\"/settings/dismiss-notice/publish_stack_from_file\",\"releasePath\":\"/FloT10/MillerFlorinBA/releases/new?marketplace=true\",\"showPublishActionBanner\":false,\"showPublishStackBanner\":false},\"rawBlobUrl\":\"https://github.com/FloT10/MillerFlorinBA/raw/73b0c11424830c07622cfdb6c7d68f9910d7514b/C01V01-HEX.EX03.xml\",\"renderImageOrRaw\":true,\"richText\":null,\"renderedFileInfo\":null,\"shortPath\":null,\"symbolsEnabled\":true,\"tabSize\":8,\"topBannersInfo\":{\"overridingGlobalFundingFile\":false,\"globalPreferredFundingPath\":null,\"repoOwner\":\"FloT10\",\"repoName\":\"MillerFlorinBA\",\"showInvalidCitationWarning\":false,\"citationHelpUrl\":\"https://docs.github.com/en/github/creating-cloning-and-archiving-repositories/creating-a-repository-on-github/about-citation-files\",\"showDependabotConfigurationBanner\":false,\"actionsOnboardingTip\":null},\"truncated\":true,\"viewable\":false,\"workflowRedirectUrl\":null,\"symbols\":{\"timed_out\":true,\"not_analyzed\":true,\"symbols\":[],\"error\":{\"code\":\"invalid_argument\",\"msg\":\"content required\",\"meta\":{}}}},\"copilotInfo\":null,\"copilotAccessAllowed\":false,\"csrf_tokens\":{\"/FloT10/MillerFlorinBA/branches\":{\"post\":\"N04aZ37pqL0IQ8HhxT-QjVGfytbOJKw3pxR0E6Ka8LABECIxjcPLSVy_cgecCUfCvT7CA5_SmLcO8L1Lc-vULA\"},\"/repos/preferences\":{\"post\":\"Op_sX361GyqQf9Rry4-LGK5hOnjjR1KqwsjzdEBtQN7wyEEmPBYdRNDmDFa-dV_Xx6b5-suWzKkzTAxFPPqbWA\"}}},\"title\":\"MillerFlorinBA/C01V01-HEX.EX03.xml at 73b0c11424830c07622cfdb6c7d68f9910d7514b · FloT10/MillerFlorinBA\"}\n"
     ]
    }
   ],
   "source": [
    "with open(dexpi_xml_path, 'r') as file:\n",
    "    xml_content = file.read()\n",
    "    print(xml_content)\n"
   ]
  },
  {
   "cell_type": "code",
   "execution_count": 39,
   "metadata": {},
   "outputs": [
    {
     "ename": "ParseError",
     "evalue": "not well-formed (invalid token): line 1, column 0 (<string>)",
     "output_type": "error",
     "traceback": [
      "Traceback \u001b[0;36m(most recent call last)\u001b[0m:\n",
      "\u001b[0m  File \u001b[1;32m~/anaconda3/envs/schemaextraction/lib/python3.12/site-packages/IPython/core/interactiveshell.py:3550\u001b[0m in \u001b[1;35mrun_code\u001b[0m\n    exec(code_obj, self.user_global_ns, self.user_ns)\u001b[0m\n",
      "\u001b[0m  Cell \u001b[1;32mIn[39], line 13\u001b[0m\n    daten = lade_daten(dexpi_xml_path)\u001b[0m\n",
      "\u001b[0m  Cell \u001b[1;32mIn[39], line 3\u001b[0m in \u001b[1;35mlade_daten\u001b[0m\n    tree = ET.parse(dexpi_xml_path)\u001b[0m\n",
      "\u001b[0m  File \u001b[1;32m~/anaconda3/envs/schemaextraction/lib/python3.12/xml/etree/ElementTree.py:1203\u001b[0m in \u001b[1;35mparse\u001b[0m\n    tree.parse(source, parser)\u001b[0m\n",
      "\u001b[0;36m  File \u001b[0;32m~/anaconda3/envs/schemaextraction/lib/python3.12/xml/etree/ElementTree.py:568\u001b[0;36m in \u001b[0;35mparse\u001b[0;36m\n\u001b[0;31m    self._root = parser._parse_whole(source)\u001b[0;36m\n",
      "\u001b[0;36m  File \u001b[0;32m<string>\u001b[0;36m\u001b[0m\n\u001b[0;31mParseError\u001b[0m\u001b[0;31m:\u001b[0m not well-formed (invalid token): line 1, column 0\n"
     ]
    }
   ],
   "source": [
    "def lade_daten(dexpi_xml_path):\n",
    "    # Laden des Dokuments\n",
    "    tree = ET.parse(dexpi_xml_path)\n",
    "    root = tree.getroot()\n",
    "\n",
    "    # Extrahieren der Werte, wie benötigt\n",
    "    anlagenbezeichnung = root.find('.//Drawing').get('Name')\n",
    "    # Weitere Werte entsprechend extrahieren\n",
    "\n",
    "    return anlagenbezeichnung\n",
    "\n",
    "# Beispielaufruf der Funktion\n",
    "daten = lade_daten(dexpi_xml_path)\n",
    "print(daten)\n",
    "\n",
    "\n"
   ]
  }
 ],
 "metadata": {
  "kernelspec": {
   "display_name": "schemaextraction",
   "language": "python",
   "name": "python3"
  },
  "language_info": {
   "codemirror_mode": {
    "name": "ipython",
    "version": 3
   },
   "file_extension": ".py",
   "mimetype": "text/x-python",
   "name": "python",
   "nbconvert_exporter": "python",
   "pygments_lexer": "ipython3",
   "version": "3.12.0"
  }
 },
 "nbformat": 4,
 "nbformat_minor": 2
}
